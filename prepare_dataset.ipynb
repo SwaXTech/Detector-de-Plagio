{
 "metadata": {
  "language_info": {
   "codemirror_mode": {
    "name": "ipython",
    "version": 3
   },
   "file_extension": ".py",
   "mimetype": "text/x-python",
   "name": "python",
   "nbconvert_exporter": "python",
   "pygments_lexer": "ipython3",
   "version": "3.8.5-final"
  },
  "orig_nbformat": 2,
  "kernelspec": {
   "name": "python38564bitnlpconda58a66029c51549b7b2d39520295f4ea7",
   "display_name": "Python 3.8.5 64-bit ('nlp': conda)"
  }
 },
 "nbformat": 4,
 "nbformat_minor": 2,
 "cells": [
  {
   "source": [
    "# Preparación del Dataset\n",
    "---"
   ],
   "cell_type": "markdown",
   "metadata": {}
  },
  {
   "cell_type": "code",
   "execution_count": 3,
   "metadata": {},
   "outputs": [],
   "source": [
    "import pandas as pd\n",
    "import os\n",
    "from document import Document\n",
    "import util.log as log\n",
    "log.init_logger()"
   ]
  },
  {
   "source": [
    "## Dataset sin etiquetar"
   ],
   "cell_type": "markdown",
   "metadata": {}
  },
  {
   "cell_type": "code",
   "execution_count": 6,
   "metadata": {},
   "outputs": [
    {
     "output_type": "execute_result",
     "data": {
      "text/plain": [
       "                                         original_path  \\\n",
       "0    unlabeled_dataset/TP 2 - La economía Long Tail...   \n",
       "1             unlabeled_dataset/TP_5_Weiss_Gonzalo.pdf   \n",
       "2    unlabeled_dataset/PREGUNTAS TP Machine, Platfo...   \n",
       "3    unlabeled_dataset/TP 2 LargaCola - Hernan Nori...   \n",
       "4    unlabeled_dataset/UTN - MARKETING - SAS - TP6.pdf   \n",
       "..                                                 ...   \n",
       "302  unlabeled_dataset/TP2 - Marketing 4.0 - Kotler...   \n",
       "303  unlabeled_dataset/SCHMID TP N°3 Experience Eco...   \n",
       "304  unlabeled_dataset/UTN Mktg 2016 - Modugno - TP...   \n",
       "305            unlabeled_dataset/TP 1 - Wikinomics.pdf   \n",
       "306            unlabeled_dataset/Marketing - TP 1.docx   \n",
       "\n",
       "                                        document_title  \\\n",
       "0                    TP 2 - La economía Long Tail.docx   \n",
       "1                               TP_5_Weiss_Gonzalo.pdf   \n",
       "2    PREGUNTAS TP Machine, Platform, Crowd Gabriela...   \n",
       "3                TP 2 LargaCola - Hernan Noriega .docx   \n",
       "4                      UTN - MARKETING - SAS - TP6.pdf   \n",
       "..                                                 ...   \n",
       "302                  TP2 - Marketing 4.0 - Kotler.docx   \n",
       "303           SCHMID TP N°3 Experience Economy (1).pdf   \n",
       "304                  UTN Mktg 2016 - Modugno - TP3.pdf   \n",
       "305                              TP 1 - Wikinomics.pdf   \n",
       "306                              Marketing - TP 1.docx   \n",
       "\n",
       "                                                string  word_count  type_count  \n",
       "0     ¿Cómo define Anderson a “La larga cola”? ¿Por...        1509         574  \n",
       "1    TRABAJO PRÁCTICO N°4 Curso: K5052 Profesor: Al...         919         364  \n",
       "2    PREGUNTAS TP Machine, Platform, Crowd: Harness...         852         379  \n",
       "3    curso: 2 Cuatrimestre 2016Marketing en Interne...         949         373  \n",
       "4    SAS, MATIAS NAHUEL 146.566-1 UTN Trabajo Práct...         433         203  \n",
       "..                                                 ...         ...         ...  \n",
       "302  TP Marketing 4. 0 - Phillip Kotler – Capítulos...        2574         823  \n",
       "303  MARKETING EN INTERNET Y NUEVA ECONOMÍA 2° CUAT...        1200         434  \n",
       "304  Ingeniería en Sistemas de Información Marketin...        1057         483  \n",
       "305  Ingeniería en Sistemas de Información Marketin...         799         370  \n",
       "306  Marketing en Internet y Nueva EconomíaTrabajo ...         834         341  \n",
       "\n",
       "[307 rows x 5 columns]"
      ],
      "text/html": "<div>\n<style scoped>\n    .dataframe tbody tr th:only-of-type {\n        vertical-align: middle;\n    }\n\n    .dataframe tbody tr th {\n        vertical-align: top;\n    }\n\n    .dataframe thead th {\n        text-align: right;\n    }\n</style>\n<table border=\"1\" class=\"dataframe\">\n  <thead>\n    <tr style=\"text-align: right;\">\n      <th></th>\n      <th>original_path</th>\n      <th>document_title</th>\n      <th>string</th>\n      <th>word_count</th>\n      <th>type_count</th>\n    </tr>\n  </thead>\n  <tbody>\n    <tr>\n      <th>0</th>\n      <td>unlabeled_dataset/TP 2 - La economía Long Tail...</td>\n      <td>TP 2 - La economía Long Tail.docx</td>\n      <td>¿Cómo define Anderson a “La larga cola”? ¿Por...</td>\n      <td>1509</td>\n      <td>574</td>\n    </tr>\n    <tr>\n      <th>1</th>\n      <td>unlabeled_dataset/TP_5_Weiss_Gonzalo.pdf</td>\n      <td>TP_5_Weiss_Gonzalo.pdf</td>\n      <td>TRABAJO PRÁCTICO N°4 Curso: K5052 Profesor: Al...</td>\n      <td>919</td>\n      <td>364</td>\n    </tr>\n    <tr>\n      <th>2</th>\n      <td>unlabeled_dataset/PREGUNTAS TP Machine, Platfo...</td>\n      <td>PREGUNTAS TP Machine, Platform, Crowd Gabriela...</td>\n      <td>PREGUNTAS TP Machine, Platform, Crowd: Harness...</td>\n      <td>852</td>\n      <td>379</td>\n    </tr>\n    <tr>\n      <th>3</th>\n      <td>unlabeled_dataset/TP 2 LargaCola - Hernan Nori...</td>\n      <td>TP 2 LargaCola - Hernan Noriega .docx</td>\n      <td>curso: 2 Cuatrimestre 2016Marketing en Interne...</td>\n      <td>949</td>\n      <td>373</td>\n    </tr>\n    <tr>\n      <th>4</th>\n      <td>unlabeled_dataset/UTN - MARKETING - SAS - TP6.pdf</td>\n      <td>UTN - MARKETING - SAS - TP6.pdf</td>\n      <td>SAS, MATIAS NAHUEL 146.566-1 UTN Trabajo Práct...</td>\n      <td>433</td>\n      <td>203</td>\n    </tr>\n    <tr>\n      <th>...</th>\n      <td>...</td>\n      <td>...</td>\n      <td>...</td>\n      <td>...</td>\n      <td>...</td>\n    </tr>\n    <tr>\n      <th>302</th>\n      <td>unlabeled_dataset/TP2 - Marketing 4.0 - Kotler...</td>\n      <td>TP2 - Marketing 4.0 - Kotler.docx</td>\n      <td>TP Marketing 4. 0 - Phillip Kotler – Capítulos...</td>\n      <td>2574</td>\n      <td>823</td>\n    </tr>\n    <tr>\n      <th>303</th>\n      <td>unlabeled_dataset/SCHMID TP N°3 Experience Eco...</td>\n      <td>SCHMID TP N°3 Experience Economy (1).pdf</td>\n      <td>MARKETING EN INTERNET Y NUEVA ECONOMÍA 2° CUAT...</td>\n      <td>1200</td>\n      <td>434</td>\n    </tr>\n    <tr>\n      <th>304</th>\n      <td>unlabeled_dataset/UTN Mktg 2016 - Modugno - TP...</td>\n      <td>UTN Mktg 2016 - Modugno - TP3.pdf</td>\n      <td>Ingeniería en Sistemas de Información Marketin...</td>\n      <td>1057</td>\n      <td>483</td>\n    </tr>\n    <tr>\n      <th>305</th>\n      <td>unlabeled_dataset/TP 1 - Wikinomics.pdf</td>\n      <td>TP 1 - Wikinomics.pdf</td>\n      <td>Ingeniería en Sistemas de Información Marketin...</td>\n      <td>799</td>\n      <td>370</td>\n    </tr>\n    <tr>\n      <th>306</th>\n      <td>unlabeled_dataset/Marketing - TP 1.docx</td>\n      <td>Marketing - TP 1.docx</td>\n      <td>Marketing en Internet y Nueva EconomíaTrabajo ...</td>\n      <td>834</td>\n      <td>341</td>\n    </tr>\n  </tbody>\n</table>\n<p>307 rows × 5 columns</p>\n</div>"
     },
     "metadata": {},
     "execution_count": 6
    }
   ],
   "source": [
    "corpora = []\n",
    "directory = 'unlabeled_dataset/'\n",
    "\n",
    "files = os.listdir(directory)\n",
    "\n",
    "for file in files:\n",
    "    try:\n",
    "        path = '{}{}'.format(directory, file)\n",
    "        document = Document(path)\n",
    "        corpora.append([path, file, document.string, document.word_count(), document.type_count()])\n",
    "    except InvalidDocument:\n",
    "        errors.append(file)\n",
    "\n",
    "dataframe = pd.DataFrame(data = corpora, columns=['original_path', 'document_title', 'string', 'word_count', 'type_count'])\n",
    "dataframe"
   ]
  },
  {
   "cell_type": "code",
   "execution_count": 9,
   "metadata": {},
   "outputs": [],
   "source": [
    "dataframe.to_csv('unlabeled_data.csv')"
   ]
  },
  {
   "source": [
    "## Dataset etiquetado"
   ],
   "cell_type": "markdown",
   "metadata": {}
  },
  {
   "source": [
    "corpora = []\n",
    "directory = 'labeled_dataset/'\n",
    "\n",
    "files = os.listdir(directory)\n",
    "\n",
    "for file in files:\n",
    "    try:\n",
    "        path = '{}{}'.format(directory, file)\n",
    "        document = Document(path)\n",
    "        splitted_file = file.split(' $ ') \n",
    "        topic = splitted_file[0]\n",
    "        title = splitted_file[1]\n",
    "        corpora.append([path, title, document.string, document.word_count(), document.type_count(), topic])\n",
    "    except InvalidDocument:\n",
    "        errors.append(file)\n",
    "\n",
    "dataframe = pd.DataFrame(data = corpora, columns=['original_path', 'document_title', 'string', 'word_count', 'type_count', 'topic'])\n",
    "dataframe"
   ],
   "cell_type": "code",
   "metadata": {},
   "execution_count": 8,
   "outputs": [
    {
     "output_type": "execute_result",
     "data": {
      "text/plain": [
       "                                         original_path  \\\n",
       "0    labeled_dataset/La larga cola $ TP2 - La Larga...   \n",
       "1    labeled_dataset/Sistemas emergentes $ TP_6_Wei...   \n",
       "2    labeled_dataset/La sociedad de costo marginal ...   \n",
       "3    labeled_dataset/Wikinomics $ TP1-Franco Zanett...   \n",
       "4    labeled_dataset/Economia de experiencia $ TP 3...   \n",
       "..                                                 ...   \n",
       "305  labeled_dataset/La sociedad de costo marginal ...   \n",
       "306  labeled_dataset/La sociedad de costo marginal ...   \n",
       "307  labeled_dataset/Sistemas emergentes $ TP6  - S...   \n",
       "308  labeled_dataset/Economia de experiencia $ TP 3...   \n",
       "309  labeled_dataset/Wikinomics $ TP 4 - Wikinomía....   \n",
       "\n",
       "                                        document_title  \\\n",
       "0    TP2 - La Larga Cola de Chris Anderson corto - ...   \n",
       "1                               TP_6_Weiss_Gonzalo.pdf   \n",
       "2    TP N° 5 – La sociedad de costo marginal cero -...   \n",
       "3                              TP1-Franco Zanette.docx   \n",
       "4                                        TP 3 (1).docx   \n",
       "..                                                 ...   \n",
       "305                                  TP5-Gariglio.docx   \n",
       "306  TP5 - La sociedad de MG Cero - Rifkin - Santia...   \n",
       "307     TP6  - Sistemas emergentes - Joel Melamed.docx   \n",
       "308  TP 3 - Economía de Experiencia - Andrés Basso ...   \n",
       "309                              TP 4 - Wikinomía.docx   \n",
       "\n",
       "                                                string  word_count  \\\n",
       "0     Universidad Tecnológica Nacional Facultad Reg...        1234   \n",
       "1    TRABAJO PRÁCTICO N°6 Curso: K5052 Profesor: Al...         480   \n",
       "2    MARKETING EN INTERNET Y NUEVA ECONOMÍA Cátedra...        1031   \n",
       "3    Alumno: Franco Zanette (147. 074-7)Institución...        1180   \n",
       "4    TP 3¿Qué 3 elementos hacen resurgir con fuerza...         590   \n",
       "..                                                 ...         ...   \n",
       "305  PREGUNTAS TP5 - (Test de lectura sobre capítul...         698   \n",
       "306  curso: K5071 - 2 Cuat. 2016Marketing en Intern...         745   \n",
       "307  MarketingProfesor: Alejandro Prince, Hernan Bo...         434   \n",
       "308  The experience economy - Joseph PINE II y Jame...         771   \n",
       "309  Marketing en Internet y Nueva EconomíaTrabajo ...        2053   \n",
       "\n",
       "     type_count                               topic  \n",
       "0           477                       La larga cola  \n",
       "1           231                 Sistemas emergentes  \n",
       "2           444  La sociedad de costo marginal cero  \n",
       "3           472                          Wikinomics  \n",
       "4           309             Economia de experiencia  \n",
       "..          ...                                 ...  \n",
       "305         330  La sociedad de costo marginal cero  \n",
       "306         336  La sociedad de costo marginal cero  \n",
       "307         222                 Sistemas emergentes  \n",
       "308         380             Economia de experiencia  \n",
       "309         736                          Wikinomics  \n",
       "\n",
       "[310 rows x 6 columns]"
      ],
      "text/html": "<div>\n<style scoped>\n    .dataframe tbody tr th:only-of-type {\n        vertical-align: middle;\n    }\n\n    .dataframe tbody tr th {\n        vertical-align: top;\n    }\n\n    .dataframe thead th {\n        text-align: right;\n    }\n</style>\n<table border=\"1\" class=\"dataframe\">\n  <thead>\n    <tr style=\"text-align: right;\">\n      <th></th>\n      <th>original_path</th>\n      <th>document_title</th>\n      <th>string</th>\n      <th>word_count</th>\n      <th>type_count</th>\n      <th>topic</th>\n    </tr>\n  </thead>\n  <tbody>\n    <tr>\n      <th>0</th>\n      <td>labeled_dataset/La larga cola $ TP2 - La Larga...</td>\n      <td>TP2 - La Larga Cola de Chris Anderson corto - ...</td>\n      <td>Universidad Tecnológica Nacional Facultad Reg...</td>\n      <td>1234</td>\n      <td>477</td>\n      <td>La larga cola</td>\n    </tr>\n    <tr>\n      <th>1</th>\n      <td>labeled_dataset/Sistemas emergentes $ TP_6_Wei...</td>\n      <td>TP_6_Weiss_Gonzalo.pdf</td>\n      <td>TRABAJO PRÁCTICO N°6 Curso: K5052 Profesor: Al...</td>\n      <td>480</td>\n      <td>231</td>\n      <td>Sistemas emergentes</td>\n    </tr>\n    <tr>\n      <th>2</th>\n      <td>labeled_dataset/La sociedad de costo marginal ...</td>\n      <td>TP N° 5 – La sociedad de costo marginal cero -...</td>\n      <td>MARKETING EN INTERNET Y NUEVA ECONOMÍA Cátedra...</td>\n      <td>1031</td>\n      <td>444</td>\n      <td>La sociedad de costo marginal cero</td>\n    </tr>\n    <tr>\n      <th>3</th>\n      <td>labeled_dataset/Wikinomics $ TP1-Franco Zanett...</td>\n      <td>TP1-Franco Zanette.docx</td>\n      <td>Alumno: Franco Zanette (147. 074-7)Institución...</td>\n      <td>1180</td>\n      <td>472</td>\n      <td>Wikinomics</td>\n    </tr>\n    <tr>\n      <th>4</th>\n      <td>labeled_dataset/Economia de experiencia $ TP 3...</td>\n      <td>TP 3 (1).docx</td>\n      <td>TP 3¿Qué 3 elementos hacen resurgir con fuerza...</td>\n      <td>590</td>\n      <td>309</td>\n      <td>Economia de experiencia</td>\n    </tr>\n    <tr>\n      <th>...</th>\n      <td>...</td>\n      <td>...</td>\n      <td>...</td>\n      <td>...</td>\n      <td>...</td>\n      <td>...</td>\n    </tr>\n    <tr>\n      <th>305</th>\n      <td>labeled_dataset/La sociedad de costo marginal ...</td>\n      <td>TP5-Gariglio.docx</td>\n      <td>PREGUNTAS TP5 - (Test de lectura sobre capítul...</td>\n      <td>698</td>\n      <td>330</td>\n      <td>La sociedad de costo marginal cero</td>\n    </tr>\n    <tr>\n      <th>306</th>\n      <td>labeled_dataset/La sociedad de costo marginal ...</td>\n      <td>TP5 - La sociedad de MG Cero - Rifkin - Santia...</td>\n      <td>curso: K5071 - 2 Cuat. 2016Marketing en Intern...</td>\n      <td>745</td>\n      <td>336</td>\n      <td>La sociedad de costo marginal cero</td>\n    </tr>\n    <tr>\n      <th>307</th>\n      <td>labeled_dataset/Sistemas emergentes $ TP6  - S...</td>\n      <td>TP6  - Sistemas emergentes - Joel Melamed.docx</td>\n      <td>MarketingProfesor: Alejandro Prince, Hernan Bo...</td>\n      <td>434</td>\n      <td>222</td>\n      <td>Sistemas emergentes</td>\n    </tr>\n    <tr>\n      <th>308</th>\n      <td>labeled_dataset/Economia de experiencia $ TP 3...</td>\n      <td>TP 3 - Economía de Experiencia - Andrés Basso ...</td>\n      <td>The experience economy - Joseph PINE II y Jame...</td>\n      <td>771</td>\n      <td>380</td>\n      <td>Economia de experiencia</td>\n    </tr>\n    <tr>\n      <th>309</th>\n      <td>labeled_dataset/Wikinomics $ TP 4 - Wikinomía....</td>\n      <td>TP 4 - Wikinomía.docx</td>\n      <td>Marketing en Internet y Nueva EconomíaTrabajo ...</td>\n      <td>2053</td>\n      <td>736</td>\n      <td>Wikinomics</td>\n    </tr>\n  </tbody>\n</table>\n<p>310 rows × 6 columns</p>\n</div>"
     },
     "metadata": {},
     "execution_count": 8
    }
   ]
  },
  {
   "cell_type": "code",
   "execution_count": 10,
   "metadata": {},
   "outputs": [],
   "source": [
    "dataframe.to_csv('labeled_data.csv')"
   ]
  }
 ]
}