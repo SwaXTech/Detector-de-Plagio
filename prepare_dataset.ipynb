{
 "metadata": {
  "language_info": {
   "codemirror_mode": {
    "name": "ipython",
    "version": 3
   },
   "file_extension": ".py",
   "mimetype": "text/x-python",
   "name": "python",
   "nbconvert_exporter": "python",
   "pygments_lexer": "ipython3",
   "version": "3.8.5-final"
  },
  "orig_nbformat": 2,
  "kernelspec": {
   "name": "python38564bitnlpconda58a66029c51549b7b2d39520295f4ea7",
   "display_name": "Python 3.8.5 64-bit ('nlp': conda)"
  }
 },
 "nbformat": 4,
 "nbformat_minor": 2,
 "cells": [
  {
   "source": [
    "# Preparación del Dataset\n",
    "---\n",
    "\n",
    "- Se obtienen y preprocesan textos directos del dataset para luego ser persistidos."
   ],
   "cell_type": "markdown",
   "metadata": {}
  },
  {
   "cell_type": "code",
   "execution_count": 1,
   "metadata": {},
   "outputs": [],
   "source": [
    "import pandas as pd\n",
    "import os\n",
    "from document import Document\n",
    "import util.log as log\n",
    "from multiprocessing import Process\n",
    "from multiprocessing import Manager\n",
    "from multiprocessing import Pool\n",
    "import pandas as pd\n",
    "log.init_logger()"
   ]
  },
  {
   "cell_type": "code",
   "execution_count": 2,
   "metadata": {
    "tags": []
   },
   "outputs": [],
   "source": [
    "corpora = []\n",
    "errors = []\n",
    "\n",
    "def process_file(file, corpus):\n",
    "    log.info('Processing file: {}'.format(file))\n",
    "    try:\n",
    "        path = '{}{}'.format(directory, file)\n",
    "        document = Document(path)\n",
    "        splitted_file = file.split(' $ ') \n",
    "        topic = splitted_file[0]\n",
    "        title = splitted_file[1]\n",
    "        corpus.append([path, title, document.string, document.word_count(), document.type_count(), document.sentences,\\\n",
    "                       document.lemmatized_string, document.stemmed_string, document.simple_preprocessed_string, topic, \\\n",
    "                       document.named_entities, document.bigrams, document.trigrams, document.lemmatized_bigrams, \\\n",
    "                       document.lemmatized_trigrams, document.stemmed_bigrams, document.stemmed_trigrams, \\\n",
    "                       document.simple_preprocessed_bigrams, document.simple_preprocessed_trigrams])\n",
    "    except InvalidDocument:\n",
    "        errors.append(file)\n",
    "\n",
    "directory = 'labeled_dataset/'\n",
    "\n",
    "files = os.listdir(directory)\n",
    "\n",
    "ps = []\n",
    "\n",
    "dataframe = None\n",
    "shared_corpora = None\n",
    "with Manager() as manager:\n",
    "\n",
    "    shared_corpora = manager.list()\n",
    "\n",
    "    for file in files[:2]:\n",
    "        p = Process(target = process_file, args=(file,shared_corpora))\n",
    "        p.start()\n",
    "        ps.append(p)\n",
    "\n",
    "    for p in ps:\n",
    "        p.join()\n",
    "\n",
    "    corpora = list(shared_corpora)\n",
    "\n",
    "\n",
    "log.info('{} documents were processed. {} documents errored.'.format(len(corpora), len(errors)))"
   ]
  },
  {
   "cell_type": "code",
   "execution_count": 3,
   "metadata": {},
   "outputs": [],
   "source": [
    "dataframe = pd.DataFrame(data = corpora, columns=['original_path', 'document_title', 'string', 'word_count', 'type_count', 'sentences','lemmatized_text', 'stemmed_text', 'simple_preprocessed', 'topic', 'named_entities', 'tokens_bigrams', 'tokens_trigrams', 'lemmatized_bigrams', 'lemmatized_trigrams', 'stemmed_bigrams', 'stemmed_trigrams', 'simple_preprocessed_bigrams', 'simple_preprocessed_trigrams'])"
   ]
  },
  {
   "cell_type": "code",
   "execution_count": 4,
   "metadata": {},
   "outputs": [
    {
     "output_type": "execute_result",
     "data": {
      "text/plain": [
       "                                       original_path  \\\n",
       "0  labeled_dataset/Sistemas emergentes $ TP_6_Wei...   \n",
       "1  labeled_dataset/La larga cola $ TP2 - La Larga...   \n",
       "\n",
       "                                      document_title  \\\n",
       "0                             TP_6_Weiss_Gonzalo.pdf   \n",
       "1  TP2 - La Larga Cola de Chris Anderson corto - ...   \n",
       "\n",
       "                                              string  word_count  type_count  \\\n",
       "0  TRABAJO PRÁCTICO N°6 Curso: K5052 Profesor: Al...         480         231   \n",
       "1   Universidad Tecnológica Nacional Facultad Reg...        1234         477   \n",
       "\n",
       "                                           sentences  \\\n",
       "0  [TRABAJO PRÁCTICO N°6 Curso: K5052 Profesor: A...   \n",
       "1  [ Universidad Tecnológica Nacional Facultad Re...   \n",
       "\n",
       "                                     lemmatized_text  \\\n",
       "0  [trabajo, curso, fecha, entregar, nombre, apel...   \n",
       "1  [sistema, curso, cuat, marketing, nuevo, dr, a...   \n",
       "\n",
       "                                        stemmed_text  \\\n",
       "0  [trabaj, nombr, email, gmail, com, marketing, ...   \n",
       "1  [cuat, marketing, nuev, dr, ayud, trabaj, col,...   \n",
       "\n",
       "                                 simple_preprocessed                topic  \\\n",
       "0  [trabajo, curso, fecha, entrega, nombre, apell...  Sistemas emergentes   \n",
       "1  [sistemas, curso, cuat, marketing, nueva, dr, ...        La larga cola   \n",
       "\n",
       "                                      named_entities  \\\n",
       "0  [Alejandro Prince Fecha de Entrega, Dictiostel...   \n",
       "1  [Dr. Alejandro Prince Ayudante, Hernán Borré T...   \n",
       "\n",
       "                                      tokens_bigrams  \\\n",
       "0  [(TRABAJO, PRÁCTICO), (PRÁCTICO, N°6), (N°6, C...   \n",
       "1  [(Universidad, Tecnológica), (Tecnológica, Nac...   \n",
       "\n",
       "                                     tokens_trigrams  \\\n",
       "0  [(TRABAJO, PRÁCTICO, N°6), (PRÁCTICO, N°6, Cur...   \n",
       "1  [(Universidad, Tecnológica, Nacional), (Tecnol...   \n",
       "\n",
       "                                  lemmatized_bigrams  \\\n",
       "0  [(trabajo, curso), (curso, fecha), (fecha, ent...   \n",
       "1  [(sistema, curso), (curso, cuat), (cuat, marke...   \n",
       "\n",
       "                                 lemmatized_trigrams  \\\n",
       "0  [(trabajo, curso, fecha), (curso, fecha, entre...   \n",
       "1  [(sistema, curso, cuat), (curso, cuat, marketi...   \n",
       "\n",
       "                                     stemmed_bigrams  \\\n",
       "0  [(trabaj, nombr), (nombr, email), (email, gmai...   \n",
       "1  [(cuat, marketing), (marketing, nuev), (nuev, ...   \n",
       "\n",
       "                                    stemmed_trigrams  \\\n",
       "0  [(trabaj, nombr, email), (nombr, email, gmail)...   \n",
       "1  [(cuat, marketing, nuev), (marketing, nuev, dr...   \n",
       "\n",
       "                         simple_preprocessed_bigrams  \\\n",
       "0  [(trabajo, curso), (curso, fecha), (fecha, ent...   \n",
       "1  [(sistemas, curso), (curso, cuat), (cuat, mark...   \n",
       "\n",
       "                        simple_preprocessed_trigrams  \n",
       "0  [(trabajo, curso, fecha), (curso, fecha, entre...  \n",
       "1  [(sistemas, curso, cuat), (curso, cuat, market...  "
      ],
      "text/html": "<div>\n<style scoped>\n    .dataframe tbody tr th:only-of-type {\n        vertical-align: middle;\n    }\n\n    .dataframe tbody tr th {\n        vertical-align: top;\n    }\n\n    .dataframe thead th {\n        text-align: right;\n    }\n</style>\n<table border=\"1\" class=\"dataframe\">\n  <thead>\n    <tr style=\"text-align: right;\">\n      <th></th>\n      <th>original_path</th>\n      <th>document_title</th>\n      <th>string</th>\n      <th>word_count</th>\n      <th>type_count</th>\n      <th>sentences</th>\n      <th>lemmatized_text</th>\n      <th>stemmed_text</th>\n      <th>simple_preprocessed</th>\n      <th>topic</th>\n      <th>named_entities</th>\n      <th>tokens_bigrams</th>\n      <th>tokens_trigrams</th>\n      <th>lemmatized_bigrams</th>\n      <th>lemmatized_trigrams</th>\n      <th>stemmed_bigrams</th>\n      <th>stemmed_trigrams</th>\n      <th>simple_preprocessed_bigrams</th>\n      <th>simple_preprocessed_trigrams</th>\n    </tr>\n  </thead>\n  <tbody>\n    <tr>\n      <th>0</th>\n      <td>labeled_dataset/Sistemas emergentes $ TP_6_Wei...</td>\n      <td>TP_6_Weiss_Gonzalo.pdf</td>\n      <td>TRABAJO PRÁCTICO N°6 Curso: K5052 Profesor: Al...</td>\n      <td>480</td>\n      <td>231</td>\n      <td>[TRABAJO PRÁCTICO N°6 Curso: K5052 Profesor: A...</td>\n      <td>[trabajo, curso, fecha, entregar, nombre, apel...</td>\n      <td>[trabaj, nombr, email, gmail, com, marketing, ...</td>\n      <td>[trabajo, curso, fecha, entrega, nombre, apell...</td>\n      <td>Sistemas emergentes</td>\n      <td>[Alejandro Prince Fecha de Entrega, Dictiostel...</td>\n      <td>[(TRABAJO, PRÁCTICO), (PRÁCTICO, N°6), (N°6, C...</td>\n      <td>[(TRABAJO, PRÁCTICO, N°6), (PRÁCTICO, N°6, Cur...</td>\n      <td>[(trabajo, curso), (curso, fecha), (fecha, ent...</td>\n      <td>[(trabajo, curso, fecha), (curso, fecha, entre...</td>\n      <td>[(trabaj, nombr), (nombr, email), (email, gmai...</td>\n      <td>[(trabaj, nombr, email), (nombr, email, gmail)...</td>\n      <td>[(trabajo, curso), (curso, fecha), (fecha, ent...</td>\n      <td>[(trabajo, curso, fecha), (curso, fecha, entre...</td>\n    </tr>\n    <tr>\n      <th>1</th>\n      <td>labeled_dataset/La larga cola $ TP2 - La Larga...</td>\n      <td>TP2 - La Larga Cola de Chris Anderson corto - ...</td>\n      <td>Universidad Tecnológica Nacional Facultad Reg...</td>\n      <td>1234</td>\n      <td>477</td>\n      <td>[ Universidad Tecnológica Nacional Facultad Re...</td>\n      <td>[sistema, curso, cuat, marketing, nuevo, dr, a...</td>\n      <td>[cuat, marketing, nuev, dr, ayud, trabaj, col,...</td>\n      <td>[sistemas, curso, cuat, marketing, nueva, dr, ...</td>\n      <td>La larga cola</td>\n      <td>[Dr. Alejandro Prince Ayudante, Hernán Borré T...</td>\n      <td>[(Universidad, Tecnológica), (Tecnológica, Nac...</td>\n      <td>[(Universidad, Tecnológica, Nacional), (Tecnol...</td>\n      <td>[(sistema, curso), (curso, cuat), (cuat, marke...</td>\n      <td>[(sistema, curso, cuat), (curso, cuat, marketi...</td>\n      <td>[(cuat, marketing), (marketing, nuev), (nuev, ...</td>\n      <td>[(cuat, marketing, nuev), (marketing, nuev, dr...</td>\n      <td>[(sistemas, curso), (curso, cuat), (cuat, mark...</td>\n      <td>[(sistemas, curso, cuat), (curso, cuat, market...</td>\n    </tr>\n  </tbody>\n</table>\n</div>"
     },
     "metadata": {},
     "execution_count": 4
    }
   ],
   "source": [
    "dataframe"
   ]
  }
 ]
}