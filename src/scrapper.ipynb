{
 "metadata": {
  "language_info": {
   "codemirror_mode": {
    "name": "ipython",
    "version": 3
   },
   "file_extension": ".py",
   "mimetype": "text/x-python",
   "name": "python",
   "nbconvert_exporter": "python",
   "pygments_lexer": "ipython3",
   "version": "3.8.5-final"
  },
  "orig_nbformat": 2,
  "kernelspec": {
   "name": "python38564bitnlpconda58a66029c51549b7b2d39520295f4ea7",
   "display_name": "Python 3.8.5 64-bit ('nlp': conda)"
  }
 },
 "nbformat": 4,
 "nbformat_minor": 2,
 "cells": [
  {
   "source": [
    "# Web Scrapper\n",
    "\n",
    "- Obtener resultados de google\n",
    "- Obtener los párrafos de cada resultado\n",
    "- Preprocesar y guardar"
   ],
   "cell_type": "markdown",
   "metadata": {}
  },
  {
   "cell_type": "code",
   "execution_count": 61,
   "metadata": {
    "tags": []
   },
   "outputs": [],
   "source": [
    "from util.scrapper import *\n",
    "\n",
    "\n",
    "keywords = ['Larga cola']\n",
    "data = []\n",
    "for keyword in keywords:\n",
    "    try:\n",
    "        results = scrape_google(keyword, 10, \"es\")\n",
    "        for result in results:\n",
    "            data.append(result)\n",
    "    except Exception as e:\n",
    "        print(e)\n",
    "    finally:\n",
    "        time.sleep(10)\n",
    "\n",
    "\n",
    "links = [result['link'] for result in data if is_well_formed_link.match(result['link'])]\n",
    "\n"
   ]
  },
  {
   "cell_type": "code",
   "execution_count": 62,
   "metadata": {},
   "outputs": [],
   "source": [
    "import re\n",
    "is_well_formed_link = re.compile(r'^https?://.+/.+$')\n",
    "is_root_path = re.compile(r'^/.+$')\n",
    "\n",
    "def is_useful(string):\n",
    "    return string != '\\n'"
   ]
  },
  {
   "cell_type": "code",
   "execution_count": 64,
   "metadata": {
    "tags": [
     "outputPrepend"
    ]
   },
   "outputs": [
    {
     "output_type": "stream",
     "name": "stdout",
     "text": [
      "nstrucción que está dejando de ser simplemente un supuesto teórico para consolidarse como una alternativa de alto valor para las industrias culturales.', '¿Qué propone y por qué es disruptiva la teoría de la Larga Cola?', 'La teoría de la Larga Cola fue formulada en 2004 por Chris Anderson, periodista, escritor, físico y editor de la revista Wired, y posteriormente publicada en 2007 en su libro La economía Long Tail: De Los Mercados De Masas Al Triunfo De Lo Minoritario. ', ' “la cultura y economía digital está dejando de estar concentrada en un número pequeño de ‘éxitos’ (productos y mercados de amplia aceptación) en la cima de la curva de demanda, a dedicarse a una enorme cantidad de nichos especializados en la cola”.', '“Al disminuirse los costos de producción y distribución, especialmente online, ahora hay menos necesidad de abarrotar productos y consumidores en contenedores de talla única. En una era sin las limitaciones del espacio físico de las estanterías y otros cuellos de botella de la distribución, los productos y servicios con un público muy definido pueden ser tan económicamente atractivos como los de consumo popular”. Chris Anderson', '', 'Aunque la teoría de Anderson tiene más de una década de creada, es en estos momentos que aparece más madura y aplicable gracias a las dinámicas de la web, donde comienza a vislumbrarse su pertinencia y sus aplicaciones exitosas. ', 'En la medida en que Internet está precedido por una explosión de información y contenidos sin antecedentes, existe una sobre oferta y una subsecuente escasez de audiencias, contrario a lo que ocurría décadas atrás, cuando existía un limitado número de medios y fuentes de información y una amplia oferta de audiencias. En otras palabras, pasamos de muchas personas consumiendo pocas fuentes a muchas fuentes consumidas por pocas personas, como en el caso de los contenidos de nicho y los canales de YouTube con pocos, pero fieles seguidores.', '“En un contexto en el cual la industria del entretenimiento está migrando del mundo físico al mundo digital surgió una cultura de la diversidad donde aparecen nuevos modelos de negocios que se enfocan en vender poco a muchos”. Chris Anderson, 2007', 'Es decir, un mercado de Larga Cola no es otra cosa que un mercado capaz de satisfacer múltiples gustos y necesidades, sin importar la cantidad de personas interesadas individualmente en cada producto o servicio, pasando de un mercado masivo a un mercado de nichos. ', 'Lo más interesante con la teoría de la Larga Cola es que no solo es un fenómeno social en ascenso, representado en miles de blogs y plataformas de distribución de contenidos, páginas web, cuentas de redes sociales y canales de YouTube, sino que se está convirtiendo en un nuevo paradigma económico, viable financieramente.', 'Un buen ejemplo es Spotify. Mientras hace algunas décadas en una tienda discográfica un usuario accedía a un limitado número de discos, casi todos ellos éxitos de mercado. Hoy en día, el mismo usuario puede consumir esos “hits”, pero también tiene la posibilidad de acceder a muchísimas producciones musicales que no son masivas, generando así una experiencia individualizada y personalizada muy satisfactoria. El mismo fenómeno se repite con el consumo audiovisual en Netflix, Prime Video, Hulu, o en los libros que distribuyen Amazon o Barnes & Noble.', 'El rol de los contenidos temáticos', 'Hace más de tres décadas, y mucho antes que Anderson publicara su teoría, el productor John Hendricks visionó generar televisión para nichos de mercado, alejándose del paradigma tradicional de la televisión de masas. Fue así que creo a Discovery Channel, un proyecto al que pocos le creyeron en su momento, pero que logró convertirse en un exitoso canal temático de documentales y sentó las bases de la televisión por suscripción. Hoy conforma un conglomerado con más de ochenta canales temáticos especializados, enfocados en un mercado de nichos, probando la teoría de Anderson para servicios no conectados a Internet.', 'En la medida en que existan mas ofertas de contenidos temáticos, más exigentes se vuelven las audiencias y mayor nivel de personalización demandan, pues no quieren conformarse con productos de talla única, sino diseños a su medida. Esto obliga a que cada vez más los contenidos deban ser personalizados y enfocados en nichos de mercado, lo que produce un efecto dominó que obliga a privilegiar la cola incluso por encima del cuerpo o la cabeza de los gráficos y las estadísticas.', 'Un estudio realizado por Erik Brynjolfsson, de la Oficina Nacional de Investigación Económica ⎯NBER⎯ del Instituto de Tecnología de Massachusetts ⎯MIT⎯, denominado: De nichos a riquezas: anatomía de la larga cola, concluye que la fidelización que produce en el consumidor el acceder a una amplia oferta de productos, mucho mas cercanos a sus gustos y distribuidos en la Larga Cola de la matriz de ventas, puede generar más riqueza para el ofertante en el largo plazo, que vender masivamente un mismo producto de la cabeza a un público desconocido. ', 'Seguramente los medios masivos de comunicación no desaparecerán en la próxima década, pero no deben perder de vista que en la contemporaneidad ningún medio tiene las audiencias que tuvo hace tres décadas y seguramente en 10 años tendrán menos audiencia de la que tienen ahora, por lo que claramente los medios que no se enfoquen en nichos de mercado, cada vez les resultará más difícil garantizar su supervivencia.', 'En conclusión, estamos presenciando el momento histórico en que lo hegemónico ya no reside en las masas sino en los nichos, en donde es más importante la diversificación de la oferta que la concentración de la demanda. Aunque claramente presenciamos una escasez de audiencias, ya lo más importante no es tener una gran cantidad de espectadores, sino lograr calidad en la oferta de los contenidos, para audiencias mucho más exigentes y cualificadas, lo que se traduce en un mayor valor social y económico para todas las partes involucradas.', 'Por:', 'Gabriel E. Levy B.', 'Lucia Morales Celular: 314 418 9661', 'E-Mail lucia@andinalink.com', 'Skype tdcevents01', 'Tels:( + 571) 635-6898 / 635-6887 / 256-8387', 'Fax:( + 571) 256 8387', 'Tels:+1 305 767-4656', 'Fax:+1-888-315-4241']\n",
      "['En la contemporaneidad, el éxito de los productos de las industrias culturales, muy particularmente la de contenidos, ha estado determinado por la demanda en masa de los productos. En otras palabras, mientras mayor es la audiencia o el consumo de un contenido, mayor se considera su éxito.', 'Si bien el consumo en masa de un producto o servicio sigue siendo determinante dentro de la economía de mercado, en el tiempo de Internet, ante la escasez de las audiencias y la sobreoferta de medios y contenidos, aparecen nuevas formas de analizar el mercado. Este es el caso de Long Tail Theory o teoría de la Larga Cola, una construcción que está dejando de ser simplemente un supuesto teórico para consolidarse como una alternativa de alto valor para las industrias culturales.', '¿Qué propone y por qué es disruptiva la teoría de la Larga Cola?', 'La teoría de la Larga Cola fue formulada en 2004 por Chris Anderson, periodista, escritor, físico y editor de la revista Wired, y posteriormente publicada en 2007 en su libro La economía Long Tail: De Los Mercados De Masas Al Triunfo De Lo Minoritario. ', ' “la cultura y economía digital está dejando de estar concentrada en un número pequeño de ‘éxitos’ (productos y mercados de amplia aceptación) en la cima de la curva de demanda, a dedicarse a una enorme cantidad de nichos especializados en la cola”.', '“Al disminuirse los costos de producción y distribución, especialmente online, ahora hay menos necesidad de abarrotar productos y consumidores en contenedores de talla única. En una era sin las limitaciones del espacio físico de las estanterías y otros cuellos de botella de la distribución, los productos y servicios con un público muy definido pueden ser tan económicamente atractivos como los de consumo popular”. Chris Anderson', '', 'Aunque la teoría de Anderson tiene más de una década de creada, es en estos momentos que aparece más madura y aplicable gracias a las dinámicas de la web, donde comienza a vislumbrarse su pertinencia y sus aplicaciones exitosas. ', 'En la medida en que Internet está precedido por una explosión de información y contenidos sin antecedentes, existe una sobre oferta y una subsecuente escasez de audiencias, contrario a lo que ocurría décadas atrás, cuando existía un limitado número de medios y fuentes de información y una amplia oferta de audiencias. En otras palabras, pasamos de muchas personas consumiendo pocas fuentes a muchas fuentes consumidas por pocas personas, como en el caso de los contenidos de nicho y los canales de YouTube con pocos, pero fieles seguidores.', '“En un contexto en el cual la industria del entretenimiento está migrando del mundo físico al mundo digital surgió una cultura de la diversidad donde aparecen nuevos modelos de negocios que se enfocan en vender poco a muchos”. Chris Anderson, 2007', 'Es decir, un mercado de Larga Cola no es otra cosa que un mercado capaz de satisfacer múltiples gustos y necesidades, sin importar la cantidad de personas interesadas individualmente en cada producto o servicio, pasando de un mercado masivo a un mercado de nichos. ', 'Lo más interesante con la teoría de la Larga Cola es que no solo es un fenómeno social en ascenso, representado en miles de blogs y plataformas de distribución de contenidos, páginas web, cuentas de redes sociales y canales de YouTube, sino que se está convirtiendo en un nuevo paradigma económico, viable financieramente.', 'Un buen ejemplo es Spotify. Mientras hace algunas décadas en una tienda discográfica un usuario accedía a un limitado número de discos, casi todos ellos éxitos de mercado. Hoy en día, el mismo usuario puede consumir esos “hits”, pero también tiene la posibilidad de acceder a muchísimas producciones musicales que no son masivas, generando así una experiencia individualizada y personalizada muy satisfactoria. El mismo fenómeno se repite con el consumo audiovisual en Netflix, Prime Video, Hulu, o en los libros que distribuyen Amazon o Barnes & Noble.', 'El rol de los contenidos temáticos', 'Hace más de tres décadas, y mucho antes que Anderson publicara su teoría, el productor John Hendricks visionó generar televisión para nichos de mercado, alejándose del paradigma tradicional de la televisión de masas. Fue así que creo a Discovery Channel, un proyecto al que pocos le creyeron en su momento, pero que logró convertirse en un exitoso canal temático de documentales y sentó las bases de la televisión por suscripción. Hoy conforma un conglomerado con más de ochenta canales temáticos especializados, enfocados en un mercado de nichos, probando la teoría de Anderson para servicios no conectados a Internet.', 'En la medida en que existan mas ofertas de contenidos temáticos, más exigentes se vuelven las audiencias y mayor nivel de personalización demandan, pues no quieren conformarse con productos de talla única, sino diseños a su medida. Esto obliga a que cada vez más los contenidos deban ser personalizados y enfocados en nichos de mercado, lo que produce un efecto dominó que obliga a privilegiar la cola incluso por encima del cuerpo o la cabeza de los gráficos y las estadísticas.', 'Un estudio realizado por Erik Brynjolfsson, de la Oficina Nacional de Investigación Económica ⎯NBER⎯ del Instituto de Tecnología de Massachusetts ⎯MIT⎯, denominado: De nichos a riquezas: anatomía de la larga cola, concluye que la fidelización que produce en el consumidor el acceder a una amplia oferta de productos, mucho mas cercanos a sus gustos y distribuidos en la Larga Cola de la matriz de ventas, puede generar más riqueza para el ofertante en el largo plazo, que vender masivamente un mismo producto de la cabeza a un público desconocido. ', 'Seguramente los medios masivos de comunicación no desaparecerán en la próxima década, pero no deben perder de vista que en la contemporaneidad ningún medio tiene las audiencias que tuvo hace tres décadas y seguramente en 10 años tendrán menos audiencia de la que tienen ahora, por lo que claramente los medios que no se enfoquen en nichos de mercado, cada vez les resultará más difícil garantizar su supervivencia.', 'En conclusión, estamos presenciando el momento histórico en que lo hegemónico ya no reside en las masas sino en los nichos, en donde es más importante la diversificación de la oferta que la concentración de la demanda. Aunque claramente presenciamos una escasez de audiencias, ya lo más importante no es tener una gran cantidad de espectadores, sino lograr calidad en la oferta de los contenidos, para audiencias mucho más exigentes y cualificadas, lo que se traduce en un mayor valor social y económico para todas las partes involucradas.', 'Por:', 'Gabriel E. Levy B.', 'Lucia Morales Celular: 314 418 9661', 'E-Mail lucia@andinalink.com', 'Skype tdcevents01', 'Tels:( + 571) 635-6898 / 635-6887 / 256-8387', 'Fax:( + 571) 256 8387', 'Tels:+1 305 767-4656', 'Fax:+1-888-315-4241']\n",
      "['En la contemporaneidad, el éxito de los productos de las industrias culturales, muy particularmente la de contenidos, ha estado determinado por la demanda en masa de los productos. En otras palabras, mientras mayor es la audiencia o el consumo de un contenido, mayor se considera su éxito.', 'Si bien el consumo en masa de un producto o servicio sigue siendo determinante dentro de la economía de mercado, en el tiempo de Internet, ante la escasez de las audiencias y la sobreoferta de medios y contenidos, aparecen nuevas formas de analizar el mercado. Este es el caso de Long Tail Theory o teoría de la Larga Cola, una construcción que está dejando de ser simplemente un supuesto teórico para consolidarse como una alternativa de alto valor para las industrias culturales.', '¿Qué propone y por qué es disruptiva la teoría de la Larga Cola?', 'La teoría de la Larga Cola fue formulada en 2004 por Chris Anderson, periodista, escritor, físico y editor de la revista Wired, y posteriormente publicada en 2007 en su libro La economía Long Tail: De Los Mercados De Masas Al Triunfo De Lo Minoritario. ', ' “la cultura y economía digital está dejando de estar concentrada en un número pequeño de ‘éxitos’ (productos y mercados de amplia aceptación) en la cima de la curva de demanda, a dedicarse a una enorme cantidad de nichos especializados en la cola”.', '“Al disminuirse los costos de producción y distribución, especialmente online, ahora hay menos necesidad de abarrotar productos y consumidores en contenedores de talla única. En una era sin las limitaciones del espacio físico de las estanterías y otros cuellos de botella de la distribución, los productos y servicios con un público muy definido pueden ser tan económicamente atractivos como los de consumo popular”. Chris Anderson', '', 'Aunque la teoría de Anderson tiene más de una década de creada, es en estos momentos que aparece más madura y aplicable gracias a las dinámicas de la web, donde comienza a vislumbrarse su pertinencia y sus aplicaciones exitosas. ', 'En la medida en que Internet está precedido por una explosión de información y contenidos sin antecedentes, existe una sobre oferta y una subsecuente escasez de audiencias, contrario a lo que ocurría décadas atrás, cuando existía un limitado número de medios y fuentes de información y una amplia oferta de audiencias. En otras palabras, pasamos de muchas personas consumiendo pocas fuentes a muchas fuentes consumidas por pocas personas, como en el caso de los contenidos de nicho y los canales de YouTube con pocos, pero fieles seguidores.', '“En un contexto en el cual la industria del entretenimiento está migrando del mundo físico al mundo digital surgió una cultura de la diversidad donde aparecen nuevos modelos de negocios que se enfocan en vender poco a muchos”. Chris Anderson, 2007', 'Es decir, un mercado de Larga Cola no es otra cosa que un mercado capaz de satisfacer múltiples gustos y necesidades, sin importar la cantidad de personas interesadas individualmente en cada producto o servicio, pasando de un mercado masivo a un mercado de nichos. ', 'Lo más interesante con la teoría de la Larga Cola es que no solo es un fenómeno social en ascenso, representado en miles de blogs y plataformas de distribución de contenidos, páginas web, cuentas de redes sociales y canales de YouTube, sino que se está convirtiendo en un nuevo paradigma económico, viable financieramente.', 'Un buen ejemplo es Spotify. Mientras hace algunas décadas en una tienda discográfica un usuario accedía a un limitado número de discos, casi todos ellos éxitos de mercado. Hoy en día, el mismo usuario puede consumir esos “hits”, pero también tiene la posibilidad de acceder a muchísimas producciones musicales que no son masivas, generando así una experiencia individualizada y personalizada muy satisfactoria. El mismo fenómeno se repite con el consumo audiovisual en Netflix, Prime Video, Hulu, o en los libros que distribuyen Amazon o Barnes & Noble.', 'El rol de los contenidos temáticos', 'Hace más de tres décadas, y mucho antes que Anderson publicara su teoría, el productor John Hendricks visionó generar televisión para nichos de mercado, alejándose del paradigma tradicional de la televisión de masas. Fue así que creo a Discovery Channel, un proyecto al que pocos le creyeron en su momento, pero que logró convertirse en un exitoso canal temático de documentales y sentó las bases de la televisión por suscripción. Hoy conforma un conglomerado con más de ochenta canales temáticos especializados, enfocados en un mercado de nichos, probando la teoría de Anderson para servicios no conectados a Internet.', 'En la medida en que existan mas ofertas de contenidos temáticos, más exigentes se vuelven las audiencias y mayor nivel de personalización demandan, pues no quieren conformarse con productos de talla única, sino diseños a su medida. Esto obliga a que cada vez más los contenidos deban ser personalizados y enfocados en nichos de mercado, lo que produce un efecto dominó que obliga a privilegiar la cola incluso por encima del cuerpo o la cabeza de los gráficos y las estadísticas.', 'Un estudio realizado por Erik Brynjolfsson, de la Oficina Nacional de Investigación Económica ⎯NBER⎯ del Instituto de Tecnología de Massachusetts ⎯MIT⎯, denominado: De nichos a riquezas: anatomía de la larga cola, concluye que la fidelización que produce en el consumidor el acceder a una amplia oferta de productos, mucho mas cercanos a sus gustos y distribuidos en la Larga Cola de la matriz de ventas, puede generar más riqueza para el ofertante en el largo plazo, que vender masivamente un mismo producto de la cabeza a un público desconocido. ', 'Seguramente los medios masivos de comunicación no desaparecerán en la próxima década, pero no deben perder de vista que en la contemporaneidad ningún medio tiene las audiencias que tuvo hace tres décadas y seguramente en 10 años tendrán menos audiencia de la que tienen ahora, por lo que claramente los medios que no se enfoquen en nichos de mercado, cada vez les resultará más difícil garantizar su supervivencia.', 'En conclusión, estamos presenciando el momento histórico en que lo hegemónico ya no reside en las masas sino en los nichos, en donde es más importante la diversificación de la oferta que la concentración de la demanda. Aunque claramente presenciamos una escasez de audiencias, ya lo más importante no es tener una gran cantidad de espectadores, sino lograr calidad en la oferta de los contenidos, para audiencias mucho más exigentes y cualificadas, lo que se traduce en un mayor valor social y económico para todas las partes involucradas.', 'Por:', 'Gabriel E. Levy B.', 'Lucia Morales Celular: 314 418 9661', 'E-Mail lucia@andinalink.com', 'Skype tdcevents01', 'Tels:( + 571) 635-6898 / 635-6887 / 256-8387', 'Fax:( + 571) 256 8387', 'Tels:+1 305 767-4656', 'Fax:+1-888-315-4241']\n"
     ]
    }
   ],
   "source": [
    "import urllib.request\n",
    "from bs4 import BeautifulSoup\n",
    "soup = BeautifulSoup(read_content,'html.parser')\n",
    "for link in links:\n",
    "    try:\n",
    "        content = urllib.request.urlopen(link)\n",
    "        read_content = content.read()\n",
    "        pAll = soup.find_all('p')\n",
    "        print(list(filter(is_useful, [p.text for p in pAll])))\n",
    "    except:\n",
    "        pass"
   ]
  },
  {
   "cell_type": "code",
   "execution_count": null,
   "metadata": {},
   "outputs": [],
   "source": []
  }
 ]
}