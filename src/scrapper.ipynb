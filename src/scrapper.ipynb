{
 "metadata": {
  "language_info": {
   "codemirror_mode": {
    "name": "ipython",
    "version": 3
   },
   "file_extension": ".py",
   "mimetype": "text/x-python",
   "name": "python",
   "nbconvert_exporter": "python",
   "pygments_lexer": "ipython3",
   "version": "3.8.5-final"
  },
  "orig_nbformat": 2,
  "kernelspec": {
   "name": "python38564bitnlpconda58a66029c51549b7b2d39520295f4ea7",
   "display_name": "Python 3.8.5 64-bit ('nlp': conda)"
  }
 },
 "nbformat": 4,
 "nbformat_minor": 2,
 "cells": [
  {
   "source": [
    "# Web Scrapper\n",
    "\n",
    "- Obtener resultados de google\n",
    "- Obtener los párrafos de cada resultado\n",
    "- Preprocesar y guardar"
   ],
   "cell_type": "markdown",
   "metadata": {}
  },
  {
   "cell_type": "code",
   "execution_count": 1,
   "metadata": {
    "tags": []
   },
   "outputs": [],
   "source": [
    "from util.scrapper import *\n",
    "from models.lda_utils import get_keywords\n",
    "import re\n",
    "is_well_formed_link = re.compile(r'^https?://.+/.+$')\n",
    "\n",
    "def is_useful(string):\n",
    "    return string != '\\n'\n",
    "\n",
    "keywords = get_keywords()\n",
    "data = []\n",
    "for keyword in keywords:\n",
    "    try:\n",
    "        results = scrape_google(keyword, 3, \"es\")\n",
    "        for result in results:\n",
    "            data.append(result)\n",
    "    except Exception as e:\n",
    "        print(e)\n",
    "    finally:\n",
    "        time.sleep(10)\n",
    "\n",
    "\n",
    "links = [result['link'] for result in data if is_well_formed_link.match(result['link'])]\n",
    "\n"
   ]
  },
  {
   "cell_type": "code",
   "execution_count": 2,
   "metadata": {},
   "outputs": [
    {
     "output_type": "execute_result",
     "data": {
      "text/plain": [
       "['preguntar consumidor coeficiente adoptar innovador tp modelo individuo boca activo',\n",
       " 'largo cola ofrecer regla cliente venta demanda nicho oferta tienda',\n",
       " 'venta usuario commerce com fuente comercio unidos www minorista porcentaje',\n",
       " 'coste tarea compartir red concepto favorecer precio global colaborativa ley',\n",
       " 'cliente marca social comunidad conectividad horizontal precio mundo red concepto',\n",
       " 'cliente experiencia masivo valor sacrificio oferta necesidad ciberespacio campo individuo',\n",
       " 'plataforma modelo conocimiento ofrecer red negocio humano inteligencia tarea grande',\n",
       " 'adoptar innovador individuo consumidor modelo gente pc grupo coeficiente rol',\n",
       " 'marcelo curso bracho ayudante cuatrimestre abril respuesta contenido maximiliano comunicar',\n",
       " 'vista trabajar on usuario usada interactuar tan completamente correr escapar',\n",
       " 'emergente conducta organismo comportamiento complejo desarrollar agente superior regla simple',\n",
       " 'concepto lograr significar global obtener wikipedia dejar actividad misma colaborar',\n",
       " 'sas modo buscar matias aquel totalmente referencia participar plantear decidir',\n",
       " 'rifkin industrial infraestructura actual marginal ley conocimiento sociedad decir colaborativa']"
      ]
     },
     "metadata": {},
     "execution_count": 2
    }
   ],
   "source": [
    "from models.lda_utils import get_keywords\n",
    "get_keywords()"
   ]
  },
  {
   "cell_type": "code",
   "execution_count": 3,
   "metadata": {},
   "outputs": [
    {
     "output_type": "execute_result",
     "data": {
      "text/plain": [
       "['https://soysocio.bocajuniors.com.ar/significado_socio_adherente.php',\n",
       " 'https://repositorio.unican.es/xmlui/bitstream/handle/10902/1174/AHCtesis.pdf?sequence=1&isAllowed=y',\n",
       " 'https://klickpages.es/blog/cola-larga-uso-en-marketing/',\n",
       " 'https://es.wikipedia.org/wiki/Larga_cola',\n",
       " 'https://es.statista.com/estadisticas/636846/estados-unidos-porcentaje-de-comercio-electronico-en-ventas-minoristas--2019/',\n",
       " 'https://kinsta.com/es/blog/etadisticas-ecommerce/',\n",
       " 'https://conectasoftware.com/tienda-online/estadisticas-de-comercio-electronico-2020-como-compramos-hoy/',\n",
       " 'https://www.tdx.cat/bitstream/handle/10803/10768/Alfageme2de3.pdf',\n",
       " 'https://unesdoc.unesco.org/images/0018/001826/182698s.pdf',\n",
       " 'https://unesdoc.unesco.org/images/0023/002329/232986s.pdf',\n",
       " 'https://www.vocesenelfenix.com/content/la-%E2%80%9Crevoluci%C3%B3n%E2%80%9D-de-las-redes-sociales-sociedad-educaci%C3%B3n-y-nueva-profesi%C3%B3n',\n",
       " 'https://dialnet.unirioja.es/descarga/libro/511130.pdf',\n",
       " 'https://es.wikipedia.org/wiki/Red_social',\n",
       " 'https://www.wowcx.com/que-es-experiencia-de-cliente/',\n",
       " 'https://e-archivo.uc3m.es/bitstream/handle/10016/22498/rosario_rivera_tesis.pdf',\n",
       " 'http://ri.unsam.edu.ar/bitstream/handle/123456789/838/TFPP%20EEYN%202018%20AOM-PHC-VL.pdf?sequence=1&isAllowed=y',\n",
       " 'http://scielo.sld.cu/scielo.php?script=sci_arttext&pid=S1024-94352005000600004',\n",
       " 'https://es.wikipedia.org/wiki/Modelo_de_negocio',\n",
       " 'https://www.scielo.br/scielo.php?pid=S1679-39512011000100011&script=sci_arttext',\n",
       " 'https://www.bbvaresearch.com/wp-content/uploads/2015/11/15-28_WP-Ec_Digital_e.pdf',\n",
       " 'https://dialnet.unirioja.es/descarga/articulo/116404.pdf',\n",
       " 'https://colectivomundoxganar.org/author/colectivodefilosofia/page/4/',\n",
       " 'https://pugarciaespil.jimdofree.com/primer-cuatrimestre/',\n",
       " 'https://ms-my.facebook.com/events/lumina/abril-2020-curso-terapia-con-ventosas-dicta-marcelo-biolattoatto/243607169925798/',\n",
       " 'http://sedici.unlp.edu.ar/bitstream/handle/10915/4155/Documento_completo.pdf?sequence=1&isAllowed=y',\n",
       " 'http://sedici.unlp.edu.ar/bitstream/handle/10915/32172/Documento_completo__.pdf?sequence=1&isAllowed=y',\n",
       " 'http://istas.net/descargas/gverde/gverde.pdf',\n",
       " 'https://www.ucasal.edu.ar/htm/ingenieria/cuadernos/archivos/3-p46-Venturini.pdf',\n",
       " 'https://es.wikipedia.org/wiki/Emergencia_(filosof%C3%ADa)',\n",
       " 'http://www.facso.uchile.cl/publicaciones/moebio/30/rossi.html',\n",
       " 'https://es.wikipedia.org/wiki/Colaboraci%C3%B3n',\n",
       " 'https://es.wikipedia.org/wiki/Wikipedia',\n",
       " 'https://es.wikipedia.org/wiki/Comercio_electr%C3%B3nico',\n",
       " 'https://www.argentina.gob.ar/sites/default/files/cit_docentes_1.pdf',\n",
       " 'https://economicas.unsa.edu.ar/afinan/informacion_general/book/ebooks/manual-evalua-proy.pdf',\n",
       " 'http://biblioteca.clacso.edu.ar/Argentina/icsya-unaj/20171114040327/pdf_1260.pdf',\n",
       " 'http://www.scielo.org.mx/scielo.php?script=sci_arttext&pid=S0188-25032016000100161',\n",
       " 'https://www.popularlibros.com/archivos/9788449330513.pdf',\n",
       " 'https://dialnet.unirioja.es/descarga/articulo/6108231.pdf']"
      ]
     },
     "metadata": {},
     "execution_count": 3
    }
   ],
   "source": [
    "links"
   ]
  },
  {
   "cell_type": "code",
   "execution_count": 4,
   "metadata": {},
   "outputs": [],
   "source": [
    "paragraphs = {}"
   ]
  },
  {
   "cell_type": "code",
   "execution_count": 5,
   "metadata": {
    "tags": []
   },
   "outputs": [
    {
     "output_type": "stream",
     "name": "stderr",
     "text": [
      "Some characters could not be decoded, and were replaced with REPLACEMENT CHARACTER.\n",
      "Some characters could not be decoded, and were replaced with REPLACEMENT CHARACTER.\n",
      "Some characters could not be decoded, and were replaced with REPLACEMENT CHARACTER.\n",
      "Some characters could not be decoded, and were replaced with REPLACEMENT CHARACTER.\n",
      "Some characters could not be decoded, and were replaced with REPLACEMENT CHARACTER.\n",
      "Some characters could not be decoded, and were replaced with REPLACEMENT CHARACTER.\n",
      "Some characters could not be decoded, and were replaced with REPLACEMENT CHARACTER.\n",
      "Some characters could not be decoded, and were replaced with REPLACEMENT CHARACTER.\n",
      "Some characters could not be decoded, and were replaced with REPLACEMENT CHARACTER.\n",
      "Some characters could not be decoded, and were replaced with REPLACEMENT CHARACTER.\n",
      "Some characters could not be decoded, and were replaced with REPLACEMENT CHARACTER.\n",
      "Some characters could not be decoded, and were replaced with REPLACEMENT CHARACTER.\n",
      "Some characters could not be decoded, and were replaced with REPLACEMENT CHARACTER.\n",
      "Some characters could not be decoded, and were replaced with REPLACEMENT CHARACTER.\n"
     ]
    }
   ],
   "source": [
    "import urllib.request\n",
    "from bs4 import BeautifulSoup\n",
    "\n",
    "for link in links:\n",
    "    try:\n",
    "        content = urllib.request.urlopen(link)\n",
    "        read_content = content.read()\n",
    "        soup = BeautifulSoup(read_content,'html.parser')\n",
    "        pAll = soup.find_all('p')\n",
    "        paragraphs[link]= list(filter(is_useful, [p.text for p in pAll]))\n",
    "    except:\n",
    "        pass"
   ]
  },
  {
   "cell_type": "code",
   "execution_count": 6,
   "metadata": {},
   "outputs": [
    {
     "output_type": "execute_result",
     "data": {
      "text/plain": [
       "ra, estableciendo un método de pago y entrega. \\n',\n",
       "  'Lo mismo sucede con Instagram pero, a diferencia de Facebook, cuenta con una herramienta exclusiva llamada Instagram Shopping que le permite a las marcas publicar fotos de sus productos con el precio y el link directo hacia su tienda en línea. Esta es una novedosa forma de vender por internet. \\n',\n",
       "  'Volviendo a Facebook, al tratarse de una red social gratuita y de fácil acceso, se ha convertido en un fundador de realizaciones comerciales popular para las personas que desean intercambiar bienes o servicios, es decir, es un tipo especial de comercio electrónico C2C, sin embargo, es de alto riesgo ya que nadie le garantiza (por el hecho de ser usuarios desconocidos) a un comprador inconforme que le devuelvan su dinero, en caso por ejemplo, de que una transacción salga mal, porque los compradores no pueden evaluar con precisión la credibilidad y reputación de un vendedor como lo hacen con el comercio electrónico B2C, por lo que sus procesos de compra son inciertos.\\n',\n",
       "  'Prueba irrefutable de que la información manejada en este tipo de comercio electrónico  es peligrosa, resulta el 18 de marzo de 2018, con el escándalo de Cambridge Analytica, compañía que obtuvo la información de usuarios de la red social y luego construyó un programa para manipular la votación de millones de usuarios en las elecciones presidenciales de los Estados Unidos en 2016 dando como resultado de la investigación, una estruendosa caída de las acciones de Facebook en la bolsa de valores. \\n',\n",
       "  'Es por esto que la información personal de las personas debe manejarse con mucho cuidado, brindando la mayor seguridad posible para que no corran riesgos ni se sientan inseguros en cuanto a su información que en este caso, va más allá de unos cuantos likes, como lo son las cuentas bancarias, direcciones residenciales, etc.\\n',\n",
       "  'El comercio electrónico realizado entre empresas es llamado en inglés business-to-business o B2B. El B2B puede estar abierto a cualquiera que esté interesado (como el intercambio de mercancías o materias primas), o estar limitado a participantes específicos pre-calificados (mercado electrónico privado). Algunas de sus virtudes son:\\n',\n",
       "  'La utilización de las compras electrónicas por internet le otorgan a los usuarios ciertas ventajas:\\n',\n",
       "  'Ubicuidad: la tecnología de internet/ web está disponible en todos lados, en el trabajo, en el hogar y en cualquier otro lado a través de los dispositivos móviles, en cualquier momento. El mercado se extiende más allá de los límites tradicionales y se elimina de una ubicación temporal y geográfica. Se crea el “Marketspace”; se pueden realizar compras en cualquier parte. Se mejora la conveniencia para el cliente y se reducen los costos de compra.\\n',\n",
       "  'Alcance global: la tecnología se extiende más allá de los límites nacionales, alrededor de la tierra. Se habilita el comercio a través de los límites culturales y nacionales sin problemas ni modificaciones. El “Marketspace” incluye potencialmente miles de millones de clientes y millones de negocios en todo el mundo.\\n',\n",
       "  'Estándares universales: hay un conjunto de estándares de tecnología, a saber, estándares de internet. Hay un conjunto de estándares de medios técnicos en todo el mundo.\\n',\n",
       "  'Riqueza: es posible transmitir mensajes de video, audio y texto. Los mensajes de comercialización de video, audio y texto se integran en una sola experiencia de consumo y mensaje de comercialización.\\n',\n",
       "  'Interactividad: la tecnología funciona a través de la interacción con el usuario. Los consumidores entablan un diálogo que ajusta en forma dinámica la experiencia para el individuo, y hace del consumidor un copartícipe en el proceso de entrega de bienes en el mercado.\\n',\n",
       "  'Densidad de la información: la tecnología reduce los costos de la información y eleva la calidad. Los costos de comunicación, procesamiento y almacenamiento de la información se reducen en forma dramática, mientras que la prevalencia, precisión y actualidad se incrementan de manera considerable. La información es abundante, económica y precisa.\\n',\n",
       "  'Personalización/adecuación: la tecnología permite entregar mensajes personalizados a individuos y grupos. La personalización de los mensajes de comercialización y la adecuación de productos y servicios se basan en las características individuales.\\n',\n",
       "  'Tecnología social: generación de contenido por parte del usuario y redes sociales. Los nuevos modelos social y de negocios de internet permiten que el usuario cree y distribuya su propio contenido, y soportan las redes sociales.\\n',\n",
       "  'Las aplicaciones del comercio en línea se basan principalmente en esta infraestructura:\\n',\n",
       "  '1. Infraestructura de servicios comerciales comunes: directorios, catálogos, tarjetas inteligentes de seguridad/autentificación, instituciones intermediarias para el pago electrónico.\\n',\n",
       "  '2. Infraestructura de red: Internet (VAN, LAN, WAN), Intranet, Extranet, televisión por cable y satelital, dispositivos electrónicos, Internet. \\n',\n",
       "  '3. Infraestructura de los mensajes y de distribución de información: intercambio electrónico de datos, correo electrónico, protocolo de transferencia de hipertexto.\\n',\n",
       "  '4. Infraestructura de interfaces: está asentado en bases de datos, agenda de clientes y aplicaciones, y sus interrelaciones.\\n',\n",
       "  '5. Plataformas y lenguajes multimedia para la infraestructura pública de red: VRML, HTML, XHTML, Javascript, PHP, ASP.\\n',\n",
       "  'Internet, Intranet y Extranet proporcionan enlaces vitales de comercio electrónico entre los componentes de una empresa y sus clientes, proveedores y otros socios comerciales. Esto permite que las empresas participen en tres categorías básicas de aplicaciones de comercio electrónico: \\n',\n",
       "  'El comercio electrónico puede utilizarse en cualquier entorno en el que se intercambien documentos entre empresas: compras o adquisiciones, finanzas, industria, transporte, salud, legislación y recolección de ingresos o impuestos. Ya existen compañías que utilizan el comercio electrónico para desarrollar los siguientes aspectos:\\n',\n",
       "  'Mediante el comercio electrónico se intercambian los documentos de las actividades empresariales entre socios comerciales. Los beneficios que se obtienen en ello son: reducción del trabajo administrativo, transacciones comerciales más rápidas y precisas, acceso más fácil y rápido a la información, y reducción de la necesidad de reescribir la información en los sistemas de información. \\n',\n",
       "  'Los tipos de actividad empresarial que podrían beneficiarse mayormente de la incorporación del comercio electrónico son:\\n',\n",
       "  'El modelo de negocio consiste en la oferta de un determinado producto o servicio por un plazo limitado, generalmente de un día, con un nivel de descuento del 50\\xa0% al 90\\xa0%. Esta herramienta, además de generar un alto nivel de visitas a los sitios y compras por parte de un gran número de usuarios, es una herramienta muy popular entre comercios y empresas pequeñas, ya que este tipo de negocio funciona solamente haciendo foco en lo local y es accesible sin importar el tamaño de la organización.\\n',\n",
       "  'P2P, significa comercio electrónico entre consumidores finales. Se trata de una plataforma que facilita la comercialización de bienes o servicios entre consumidores a través de internet, generalmente con una empresa intermediaria como eBay, El Corte Inglés, Amazon\\n'],\n",
       " 'https://economicas.unsa.edu.ar/afinan/informacion_general/book/ebooks/manual-evalua-proy.pdf': [],\n",
       " 'http://biblioteca.clacso.edu.ar/Argentina/icsya-unaj/20171114040327/pdf_1260.pdf': [],\n",
       " 'http://www.scielo.org.mx/scielo.php?script=sci_arttext&pid=S0188-25032016000100161': ['Reseñas',\n",
       "  'Jeremy Rifkin. La sociedad de coste marginal cero (Barcelona: Paidós, 2014), 464 pp.',\n",
       "  'Francisco\\xa0Collado Campaña*\\xa0\\n\\t\\t\\t',\n",
       "  '*Universidad Pablo de Olavide, Sevilla',\n",
       "  'Rifkin, Jeremy. \\n\\tLa sociedad de coste marginal cero. \\n\\tBarcelona: \\n\\tPaidós, 2014. \\n\\t464 pp, ',\n",
       "  'En una monografía anterior publicada en 2011, Jeremy Rifkin propuso su perspectiva de una etapa económica poscarbono y sostenible, y vaticinó el final del trabajo tal como se concibe en la actualidad. Este modelo planteado desde una visión audaz de la política energética fue aceptado ampliamente por distintos organismos como las Naciones Unidas y la Unión Europea. El éxito de este modelo tuvo tan amplia repercusión que ha sido adoptado por gobernantes como Angela Merkel en Alemania, François Hollande en Francia y Li Keqiang en China. En 2014, Rifkin ha irrumpido con una nueva propuesta teórica para llevar a la práctica y que afecta tanto la política y la economía como la misma sociedad. Se trata de la obra recogida bajo el título La sociedad de coste marginal cero, en la que pronostica el surgimiento de un nuevo paradigma económico denominado el \"procomún colaborativo\".',\n",
       "  'La introducción de este modelo económico en las páginas de este certero ensayo se realiza a través de cinco bloques. En la primera parte, \"La historia no contada del capitalismo\", ofrece un recorrido cronológico del mercado capitalista desde sus inicios hasta la actualidad y los requerimientos que exigen su adaptación o transformación con respecto a las necesidades del ser humano. En el segundo bloque, \"La sociedad de coste marginal casi cero\", brinda un panorama de Internet y las nuevas tecnologías que han permitido convertir a las personas tanto en consumidores como en creadores de bienes y servicios. \"El auge del procomún colaborativo\", tercer bloque, sitúa el papel del \"prosumidor\" en una sociedad globalizada basada cada vez más en el intercambio y el trueque entre usuarios que en la tradicional relación entre empresas y clientes. En el cuarto bloque, \"Capital social y economía del compartir\", realiza una teorización de este modelo y unas propuestas prácticas para fortalecer este nuevo paradigma. Finalmente, en \"La economía de la abundancia\", intenta conciliar este paradigma económico con el respeto del medio ambiente y de la biosfera.',\n",
       "  'El primer bloque comienza con un recorrido por la historia económica desde el feudalismo. Como advierte Rifkin, en la Edad Media existió el procomún como la colaboración entre los señores feudales -que aportaban protección- y los campesinos -que aportaban mano de obra- a través de distintas fórmulas de contrato. De hecho, la sociedad medieval se sustentó en las relaciones contractuales entre la nobleza y el pueblo llano. El desarrollo de la energía eólica, la hidráulica y la imprenta permitió la transición a una economía de mercado en los siglos XV y XVI. De esta forma, se pusieron los primeros cimientos para la primera revolución industrial y los cercamientos de la propiedad. El surgimiento de la economía capitalista -a partir del carbón y el vapor- hizo que los trabajadores quedasen desposeídos del uso de los medios de producción e incluso de su propia mano de obra, que se convertía en una mercancía más. La segunda revolución -impulsada por la electricidad- favoreció el desarrollo del capitalismo, el aumento de la concentración de propiedad de los empresarios y una mejora en las condiciones de vida generales. Sin embargo, estos cambios económicos han conllevado un replanteamiento teórico de la condición humana desde la óptica del capitalismo.',\n",
       "  'En el segundo bloque, Rifkin teoriza sobre distintas innovaciones presentes en la tercera revolución industrial que actualmente vivimos. Para ello es fundamental el concepto del \"Internet de las Cosas\" (IdC) y la reducción continua del coste marginal por parte del capitalismo. El IdC implica la conexión directa de las cosas -bienes, servicios, información y materiales- con todas las personas a través de los avances de las nuevas tecnologías, especialmente los sensores, registros y los big data. La Comisión Europea creó recientemente el Internet of Things European Research Clusters para estudiar la viabilidad de esta propuesta. Multinacionales estadounidenses como ups controlan miles de vehículos a partir de sensores. El costo marginal, consistente en la variación del costo total al producir una unidad adicional con respecto a la cantidad producida, es fundamental para entender las distintas revoluciones industriales. Según Rifkin, esta obsesión ahorrativa del capitalismo llevará a un punto en el que la producción adicional de un bien o servicio tendrá un valor cercano al 0%.',\n",
       "  'Pese a estas afirmaciones teóricas, surge la duda sobre cómo será posible conseguir dicha reducción o supresión de los costes marginales. El autor sostiene varios argumentos para hacer viable su propuesta. Primero: las impresoras 3D ponen al alcance de las personas la posibilidad de producir una heterogeneidad de bienes debido al cambio de la manufacturación por la \"infofacturación\", el código abierto y la caída de los precios de esta maquinaria de producción. Además, estas impresoras son respetuosas con el medio ambiente y permiten, a partir de las mismas, producir sus propias piezas en lugar de comprar nuevas. Segundo: los Massive Open Online Courses (MOOC) posibilitan sustituir el aprendizaje jerárquico o vertical de la escuela tradicional por el libre y gratuito acceso a contenidos de aprendizaje y/o el intercambio de habilidades y enseñanzas entre usuarios. En este sentido, surgirá el trueque de la educación y su desaparición como servicio sometido a un precio en el mercado. Tercero: la mayoría de los trabajos serán prescindibles -incluso aquellos relacionados con la sociedad del conocimiento y la información- debido a los desarrollos de Inteligencias Artificiales (IA). Por último, un Internet de la energía o una distribución autorracionalizada de la energía por parte de los sujetos permitirá la desaparición de gran parte del sistema productivo tal y como se entiende, pasando de relaciones de empresario-cliente a relaciones de intercambio entre las personas. De hecho, este fenómeno del intercambio a partir de la red de redes ya se está produciendo con movimientos como Blablacar, Airbnb, Couchsurfing y otros similares, al alcance de cualquier persona con un soporte de acceso (computadora personal, smartphone, entre otros).',\n",
       "  'El tercer bloque comienza con el redescubrimiento del \"procomún\". Señala Rifkin que además de la propiedad pública y privada, existe una tercera categoría de la propiedad según su titularidad. Es una propiedad pública en tanto que pertenece y es gestionada por el conjunto de la sociedad, pero no está en manos de los particulares ni del Estado. Esto conformaría el denominado \"procomún\" que apenas aparece reseñado en algunos estudios antropológicos y ha desaparecido para gran parte de la literatura académica. El autor ilustra cómo las protestas de los movimientos de software libre y ecologistas contra las patentes informáticas y farmacéuticas, respectivamente, han supuesto un auge del procomún. Los valores compartidos y las necesidades logísticas mutuas llevaron a que ambos movimientos colaborasen, confluyendo en un auge de la bioinformática que representa uno de los campos punteros de investigación en la actualidad, según personalidades como Bill Gates y Michael Milken. No obstante, el problema de la expansión del procomún viene unido a una lucha entre los partidarios del cercamiento de la propiedad y los partidarios de su apertura o compartición, es decir, entre los defensores de una suerte de comunitarismo economicista (Creative Commons, Linux, movimientos altermundistas) y los paladines del corporativismo economicista (desde los Estados hasta las corporaciones multinacionales). Como cierre, Rifkin ilustra la necesidad de introducir el procomún en las comunicaciones, la energía de la logística, junto a una renovación de la empresa cooperativa. Estos sectores serían los característicos de la tercera revolución industrial que se está gestando en la actualidad.',\n",
       "  'El cuarto bloque se dirige a teorizar y proponer prácticas para introducir el \"procomún\" en la vida cotidiana de las personas. Para comenzar, el autor señala que el derecho que debe reclamarse no es el de propiedad -ya sea la propiedad privada defendida por la derecha política o la propiedad pública reclamada desde la izquierda-, sino el derecho de acceso. El procomún supone la finalización de los cercamientos de propiedad, de las patentes, de los derechos intelectuales y otros tantos, por lo que lo realmente necesario es el acceso a los bienes, servicios y materiales y no la propiedad, que ya no pertenecería en particular ni a lo privado ni a lo público. Rikfin realiza una enumeración de las prácticas favorables al procomún en la vida diaria. Primero: la microfinanciación y el crowfunding entre iguales, favoreciendo el mecenazgo cívico. Segundo: la creación de una moneda virtual y un sistema de reputación valorativa para facilitar que las personas puedan financiarse salvando las distancias geográficas y la falta de información. Tercero: un empresariado social sin ánimo de lucro y con unos intereses colectivistas y voluntaristas dirigidos a consolidar la infraestructura social. Cuarto: nuevos tipos de empleos que permitan la transición del mercado capitalista al del procomún. Estos nuevos trabajos estarán dirigidos a mejorar la infraestructura social y se basarán en sectores como la educación, la sanidad y las artes. Los trabajos tradicionales relacionados con la provisión del Estado de bienestar pasarán a manos del empresariado social.',\n",
       "  'En el último bloque, Rifkin realiza un ejercicio teórico para conciliar la abundancia y la sostenibilidad, para terminar defendiendo un nivel de consumo intermedio que se corresponde con buenos estados psicológicos, sociológicos y mejoras en la calidad de vida. Al respecto, señala parafraseando a Gandhi que lo importante es vivir conforme a la satisfacción adecuada de las necesidades humanas, no con respecto a la codicia. Todo esto lleva a una apuesta del autor por los valores posmaterialistas propios de las generaciones más jóvenes, frente a los más materialistas. Sin embargo, esta apuesta teórica se queda en el aire en aquellas sociedades que sufren la actual crisis económica, donde cada vez más se produce un retroceso hacia los valores materialistas debido al aumento de la pobreza.',\n",
       "  'Aunque la propuesta de Rifkin puede parecer muy idealista y utópica, deben enunciarse dos puntos a favor de esta obra. En primer lugar, el aviso del cercamiento que empresas como Google y Facebook realizan de bienes como la información y la privacidad. Los agentes económicos y sociales como las empresas están haciéndose propietarios de ámbitos de nuestra vida que hasta hace poco no eran susceptibles de ser convertidos en mercancía, lo que está planteando distintas disputas como las existentes en torno de las leyes de datos personales, la propiedad intelectual y la reciente transparencia. En segundo lugar, Rifkin no es un mero autor de best-sellers, sino un reputado asesor de gobiernos y organizaciones internacionales que han puesto en marcha algunas de sus propuestas.',\n",
       "  'La propuesta que plantea el autor no está libre de conflicto entre los partidarios de una economía más cívica, más liberalizada entre los particulares y las empresas y/o distintos gremios. Un caso ilustrativo pueden ser las recientes disputas entre los taxistas y los usuarios de Uber como forma de transporte alternativo que abarata los costes. Así, \"competencia desleal\", \"intrusismo profesional\" y \"falta de profesionalidad\" fueron algunos de los argumentos planteados desde los tradicionales oferentes. Esto lleva a la conclusión advertida de que propietarios públicos (Estado) y propietarios privados (empresas) cooperan para conservar el corporativismo de determinados sectores que desean que se mantenga al margen el procomún.',\n",
       "  '\\xa0This is an open-access article distributed under the terms of the Creative Commons Attribution License'],\n",
       " 'https://www.popularlibros.com/archivos/9788449330513.pdf': [],\n",
       " 'https://dialnet.unirioja.es/descarga/articulo/6108231.pdf': []}"
      ]
     },
     "metadata": {},
     "execution_count": 6
    }
   ],
   "source": [
    "def is_useful(p):\n",
    "    return len(p) > 3\n",
    "\n",
    "for key in paragraphs.keys():\n",
    "    paragraphs[key] = list(filter(is_useful, paragraphs[key]))"
   ]
  },
  {
   "cell_type": "code",
   "execution_count": 23,
   "metadata": {},
   "outputs": [],
   "source": [
    "from document import Document\n",
    "preprocess_list = ['lemmatized_string', 'sentences', 'preprocessed_sentences', 'paragraphs', 'preprocessed_paragraphs']\n",
    "documents = []\n",
    "\n",
    "for key in paragraphs.keys():\n",
    "    p = paragraphs[key]\n",
    "    if len(p) != 0:\n",
    "        doc = Document()\n",
    "        doc.from_paragraphs(paragraphs = paragraphs[key], preprocess_list=preprocess_list)\n",
    "        doc.title = key\n",
    "        documents.append(doc)\n"
   ]
  },
  {
   "cell_type": "code",
   "execution_count": 29,
   "metadata": {},
   "outputs": [],
   "source": [
    "def process_file(document):\n",
    "    return [document.title, document.title, document.string, document.word_count(), document.type_count(), document.sentences,\\\n",
    "                       document.lemmatized_string, document.stemmed_string, document.simple_preprocessed_string, document.topic, \\\n",
    "                       document.named_entities, document.bigrams, document.trigrams, document.lemmatized_bigrams, \\\n",
    "                       document.lemmatized_trigrams, document.stemmed_bigrams, document.stemmed_trigrams, \\\n",
    "                       document.simple_preprocessed_bigrams, document.simple_preprocessed_trigrams, document.preprocessed_sentences,\n",
    "                       document.paragraphs, document.preprocessed_paragraphs, document.urls]\n",
    "\n",
    "scrapped = [process_file(doc) for doc in documents]"
   ]
  },
  {
   "cell_type": "code",
   "execution_count": 31,
   "metadata": {},
   "outputs": [],
   "source": [
    "import pandas as pd\n",
    "dataframe_scrapped = pd.DataFrame(data = scrapped, columns=['original_path', 'document_title', 'string', 'word_count', 'type_count', 'sentences','lemmatized_text', 'stemmed_text', 'simple_preprocessed', 'topic', 'named_entities', 'tokens_bigrams', 'tokens_trigrams', 'lemmatized_bigrams', 'lemmatized_trigrams', 'stemmed_bigrams', 'stemmed_trigrams', 'simple_preprocessed_bigrams', 'simple_preprocessed_trigrams', 'preprocessed_sentences', 'paragraphs', 'preprocessed_paragraphs', 'urls'])\n",
    "dataframe_scrapped.to_csv('../data/scrapped.csv')"
   ]
  },
  {
   "cell_type": "code",
   "execution_count": null,
   "metadata": {},
   "outputs": [],
   "source": []
  }
 ]
}