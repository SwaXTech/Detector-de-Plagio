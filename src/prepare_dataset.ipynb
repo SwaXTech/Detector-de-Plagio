{
 "metadata": {
  "language_info": {
   "codemirror_mode": {
    "name": "ipython",
    "version": 3
   },
   "file_extension": ".py",
   "mimetype": "text/x-python",
   "name": "python",
   "nbconvert_exporter": "python",
   "pygments_lexer": "ipython3",
   "version": "3.8.5-final"
  },
  "orig_nbformat": 2,
  "kernelspec": {
   "name": "python38564bitnlpconda58a66029c51549b7b2d39520295f4ea7",
   "display_name": "Python 3.8.5 64-bit ('nlp': conda)"
  }
 },
 "nbformat": 4,
 "nbformat_minor": 2,
 "cells": [
  {
   "source": [
    "# Preparación del Dataset\n",
    "---\n",
    "\n",
    "- Se obtienen y preprocesan textos directos del dataset para luego ser persistidos."
   ],
   "cell_type": "markdown",
   "metadata": {}
  },
  {
   "cell_type": "code",
   "execution_count": 1,
   "metadata": {},
   "outputs": [],
   "source": [
    "import pandas as pd\n",
    "import os\n",
    "from document import Document\n",
    "import util.log as log\n",
    "from multiprocessing import Process\n",
    "from multiprocessing import Manager\n",
    "from multiprocessing import Pool\n",
    "import pandas as pd\n",
    "from datetime import datetime\n",
    "log.init_logger()\n",
    "from util.exceptions import InvalidDocument"
   ]
  },
  {
   "cell_type": "code",
   "execution_count": 2,
   "metadata": {},
   "outputs": [],
   "source": [
    "preprocess_list = ['lemmatized_string', 'sentences', 'preprocessed_sentences', 'paragraphs', 'preprocessed_paragraphs', 'named_entities', 'urls']"
   ]
  },
  {
   "cell_type": "code",
   "execution_count": 3,
   "metadata": {},
   "outputs": [],
   "source": [
    "def process_file(file):\n",
    "    log.info('Processing file: {}'.format(file))\n",
    "    try:\n",
    "        path = '{}{}'.format(directory, file)\n",
    "        document = Document(path = path, preprocess_list = preprocess_list)\n",
    "        splitted_file = file.split(' $ ') \n",
    "        topic = splitted_file[0]\n",
    "        title = splitted_file[1]\n",
    "        return [path, title, document.string, document.word_count(), document.type_count(), document.sentences,\\\n",
    "                       document.lemmatized_string, document.stemmed_string, document.simple_preprocessed_string, topic, \\\n",
    "                       document.named_entities, document.bigrams, document.trigrams, document.lemmatized_bigrams, \\\n",
    "                       document.lemmatized_trigrams, document.stemmed_bigrams, document.stemmed_trigrams, \\\n",
    "                       document.simple_preprocessed_bigrams, document.simple_preprocessed_trigrams, document.preprocessed_sentences,\n",
    "                       document.paragraphs, document.preprocessed_paragraphs, document.urls]\n",
    "    except InvalidDocument:\n",
    "        return []"
   ]
  },
  {
   "cell_type": "code",
   "execution_count": 4,
   "metadata": {},
   "outputs": [],
   "source": [
    "corpora = []\n",
    "init_time = datetime.now()\n",
    "directory = '../labeled_dataset/'\n",
    "files = os.listdir(directory)\n",
    "number_of_cores_to_use = 10\n",
    "dataframe_dataset = None\n",
    "\n",
    "\n",
    "with Pool(number_of_cores_to_use) as pool:\n",
    "    corpora = pool.map(process_file, files)\n",
    "\n",
    "time = datetime.now() - init_time\n",
    "log.info('{} documents were processed. {} documents errored. Total time used: {}, Total cores used: {}'.format(len(corpora), corpora.count([]), \\\n",
    "                                                                                                          str(time), number_of_cores_to_use))"
   ]
  },
  {
   "cell_type": "code",
   "execution_count": 5,
   "metadata": {},
   "outputs": [],
   "source": [
    "dataframe_dataset = pd.DataFrame(data = corpora, columns=['original_path', 'title', 'string', 'word_count', 'type_count', 'sentences','lemmatized_string', 'stemmed_string', 'simple_preprocessed_string', 'topic', 'named_entities', 'tokens_bigrams', 'tokens_trigrams', 'lemmatized_bigrams', 'lemmatized_trigrams', 'stemmed_bigrams', 'stemmed_trigrams', 'simple_preprocessed_bigrams', 'simple_preprocessed_trigrams', 'preprocessed_sentences', 'paragraphs', 'preprocessed_paragraphs', 'urls'])"
   ]
  },
  {
   "cell_type": "code",
   "execution_count": 6,
   "metadata": {},
   "outputs": [],
   "source": [
    "dataframe_dataset.to_csv('../data/dataset.csv')"
   ]
  },
  {
   "cell_type": "code",
   "execution_count": 7,
   "metadata": {},
   "outputs": [
    {
     "output_type": "execute_result",
     "data": {
      "text/plain": [
       "                                         original_path  \\\n",
       "0    ../labeled_dataset/La larga cola $ TP2 - La La...   \n",
       "1    ../labeled_dataset/Sistemas emergentes $ TP_6_...   \n",
       "2    ../labeled_dataset/La sociedad de costo margin...   \n",
       "3    ../labeled_dataset/Wikinomics $ TP1-Franco Zan...   \n",
       "4    ../labeled_dataset/Economia de experiencia $ T...   \n",
       "..                                                 ...   \n",
       "301  ../labeled_dataset/La sociedad de costo margin...   \n",
       "302  ../labeled_dataset/La sociedad de costo margin...   \n",
       "303  ../labeled_dataset/Sistemas emergentes $ TP6  ...   \n",
       "304  ../labeled_dataset/Economia de experiencia $ T...   \n",
       "305  ../labeled_dataset/Wikinomics $ TP 4 - Wikinom...   \n",
       "\n",
       "                                                 title  \\\n",
       "0    TP2 - La Larga Cola de Chris Anderson corto - ...   \n",
       "1                               TP_6_Weiss_Gonzalo.pdf   \n",
       "2    TP N° 5 – La sociedad de costo marginal cero -...   \n",
       "3                              TP1-Franco Zanette.docx   \n",
       "4                                        TP 3 (1).docx   \n",
       "..                                                 ...   \n",
       "301                                  TP5-Gariglio.docx   \n",
       "302  TP5 - La sociedad de MG Cero - Rifkin - Santia...   \n",
       "303     TP6  - Sistemas emergentes - Joel Melamed.docx   \n",
       "304  TP 3 - Economía de Experiencia - Andrés Basso ...   \n",
       "305                              TP 4 - Wikinomía.docx   \n",
       "\n",
       "                                                string  word_count  \\\n",
       "0     Universidad Tecnológica Nacional Facultad Reg...        1234   \n",
       "1    TRABAJO PRÁCTICO N°6 Curso: K5052 Profesor: Al...         480   \n",
       "2    MARKETING EN INTERNET Y NUEVA ECONOMÍA Cátedra...        1031   \n",
       "3    Alumno: Franco Zanette (147. 074-7)Institución...        1180   \n",
       "4    TP 3¿Qué 3 elementos hacen resurgir con fuerza...         590   \n",
       "..                                                 ...         ...   \n",
       "301  PREGUNTAS TP5 - (Test de lectura sobre capítul...         698   \n",
       "302  curso: K5071 - 2 Cuat. 2016Marketing en Intern...         745   \n",
       "303  MarketingProfesor: Alejandro Prince, Hernan Bo...         434   \n",
       "304  The experience economy - Joseph PINE II y Jame...         771   \n",
       "305  Marketing en Internet y Nueva EconomíaTrabajo ...        2053   \n",
       "\n",
       "     type_count                                          sentences  \\\n",
       "0           477  [ Universidad Tecnológica Nacional Facultad Re...   \n",
       "1           231  [TRABAJO PRÁCTICO N°6 Curso: K5052 Profesor: A...   \n",
       "2           444  [MARKETING EN INTERNET Y NUEVA ECONOMÍA Cátedr...   \n",
       "3           472  [Alumno: Franco Zanette (147., 074-7)Instituci...   \n",
       "4           309  [TP 3¿Qué 3 elementos hacen resurgir con fuerz...   \n",
       "..          ...                                                ...   \n",
       "301         330  [PREGUNTAS TP5 - (Test de lectura sobre capítu...   \n",
       "302         336  [curso: K5071 - 2 Cuat., 2016Marketing en Inte...   \n",
       "303         222  [MarketingProfesor: Alejandro Prince, Hernan B...   \n",
       "304         380  [The experience economy - Joseph PINE II y Jam...   \n",
       "305         736  [Marketing en Internet y Nueva EconomíaTrabajo...   \n",
       "\n",
       "    lemmatized_string stemmed_string simple_preprocessed_string  \\\n",
       "0                None           None                       None   \n",
       "1                None           None                       None   \n",
       "2                None           None                       None   \n",
       "3                None           None                       None   \n",
       "4                None           None                       None   \n",
       "..                ...            ...                        ...   \n",
       "301              None           None                       None   \n",
       "302              None           None                       None   \n",
       "303              None           None                       None   \n",
       "304              None           None                       None   \n",
       "305              None           None                       None   \n",
       "\n",
       "                                  topic  ... lemmatized_bigrams  \\\n",
       "0                         La larga cola  ...               None   \n",
       "1                   Sistemas emergentes  ...               None   \n",
       "2    La sociedad de costo marginal cero  ...               None   \n",
       "3                            Wikinomics  ...               None   \n",
       "4               Economia de experiencia  ...               None   \n",
       "..                                  ...  ...                ...   \n",
       "301  La sociedad de costo marginal cero  ...               None   \n",
       "302  La sociedad de costo marginal cero  ...               None   \n",
       "303                 Sistemas emergentes  ...               None   \n",
       "304             Economia de experiencia  ...               None   \n",
       "305                          Wikinomics  ...               None   \n",
       "\n",
       "    lemmatized_trigrams stemmed_bigrams stemmed_trigrams  \\\n",
       "0                  None            None             None   \n",
       "1                  None            None             None   \n",
       "2                  None            None             None   \n",
       "3                  None            None             None   \n",
       "4                  None            None             None   \n",
       "..                  ...             ...              ...   \n",
       "301                None            None             None   \n",
       "302                None            None             None   \n",
       "303                None            None             None   \n",
       "304                None            None             None   \n",
       "305                None            None             None   \n",
       "\n",
       "    simple_preprocessed_bigrams simple_preprocessed_trigrams  \\\n",
       "0                          None                         None   \n",
       "1                          None                         None   \n",
       "2                          None                         None   \n",
       "3                          None                         None   \n",
       "4                          None                         None   \n",
       "..                          ...                          ...   \n",
       "301                        None                         None   \n",
       "302                        None                         None   \n",
       "303                        None                         None   \n",
       "304                        None                         None   \n",
       "305                        None                         None   \n",
       "\n",
       "    preprocessed_sentences                                         paragraphs  \\\n",
       "0                     None  [ Universidad Tecnológica Nacional Facultad Re...   \n",
       "1                     None  [TRABAJO PRÁCTICO N°6 Curso: K5052 Profesor: A...   \n",
       "2                     None  [MARKETING EN INTERNET Y NUEVA ECONOMÍA Cátedr...   \n",
       "3                     None  [Alumno: Franco Zanette (147.074-7), Instituci...   \n",
       "4                     None  [TP 3, ¿Qué 3 elementos hacen resurgir con fue...   \n",
       "..                     ...                                                ...   \n",
       "301                   None  [PREGUNTAS TP5 - (Test de lectura sobre capítu...   \n",
       "302                   None  [curso: K5071 - 2 Cuat. 2016, Marketing en Int...   \n",
       "303                   None  [, , Marketing, Profesor: Alejandro Prince, He...   \n",
       "304                   None  [The experience economy - Joseph PINE II y Jam...   \n",
       "305                   None  [, Marketing en Internet y Nueva Economía, Tra...   \n",
       "\n",
       "                               preprocessed_paragraphs urls  \n",
       "0    [sistema curso cuat marketing nuevo dr ayudant...   []  \n",
       "1    [trabajo curso fecha entregar nombre apellido ...   []  \n",
       "2    [marketing nuevo ayudante maximiliano bracho t...   []  \n",
       "3    [, frba, tp tp, fecha, , concepto, , concepto ...   []  \n",
       "4    [tp, elemento hacer resurgir fuerza idea exper...   []  \n",
       "..                                                 ...  ...  \n",
       "301  [pregunta lectura, , sociedad costo marginal c...   []  \n",
       "302  [curso cuat, marketing nuevo, , dr, , ayudante...   []  \n",
       "303  [, , marketing, , trabajo, , , , fecha entrega...   []  \n",
       "304  [experience ii, pregunta trabajo, nota requeri...   []  \n",
       "305  [, marketing nuevo, trabajo, , , , ayudante, c...   []  \n",
       "\n",
       "[306 rows x 23 columns]"
      ],
      "text/html": "<div>\n<style scoped>\n    .dataframe tbody tr th:only-of-type {\n        vertical-align: middle;\n    }\n\n    .dataframe tbody tr th {\n        vertical-align: top;\n    }\n\n    .dataframe thead th {\n        text-align: right;\n    }\n</style>\n<table border=\"1\" class=\"dataframe\">\n  <thead>\n    <tr style=\"text-align: right;\">\n      <th></th>\n      <th>original_path</th>\n      <th>title</th>\n      <th>string</th>\n      <th>word_count</th>\n      <th>type_count</th>\n      <th>sentences</th>\n      <th>lemmatized_string</th>\n      <th>stemmed_string</th>\n      <th>simple_preprocessed_string</th>\n      <th>topic</th>\n      <th>...</th>\n      <th>lemmatized_bigrams</th>\n      <th>lemmatized_trigrams</th>\n      <th>stemmed_bigrams</th>\n      <th>stemmed_trigrams</th>\n      <th>simple_preprocessed_bigrams</th>\n      <th>simple_preprocessed_trigrams</th>\n      <th>preprocessed_sentences</th>\n      <th>paragraphs</th>\n      <th>preprocessed_paragraphs</th>\n      <th>urls</th>\n    </tr>\n  </thead>\n  <tbody>\n    <tr>\n      <th>0</th>\n      <td>../labeled_dataset/La larga cola $ TP2 - La La...</td>\n      <td>TP2 - La Larga Cola de Chris Anderson corto - ...</td>\n      <td>Universidad Tecnológica Nacional Facultad Reg...</td>\n      <td>1234</td>\n      <td>477</td>\n      <td>[ Universidad Tecnológica Nacional Facultad Re...</td>\n      <td>None</td>\n      <td>None</td>\n      <td>None</td>\n      <td>La larga cola</td>\n      <td>...</td>\n      <td>None</td>\n      <td>None</td>\n      <td>None</td>\n      <td>None</td>\n      <td>None</td>\n      <td>None</td>\n      <td>None</td>\n      <td>[ Universidad Tecnológica Nacional Facultad Re...</td>\n      <td>[sistema curso cuat marketing nuevo dr ayudant...</td>\n      <td>[]</td>\n    </tr>\n    <tr>\n      <th>1</th>\n      <td>../labeled_dataset/Sistemas emergentes $ TP_6_...</td>\n      <td>TP_6_Weiss_Gonzalo.pdf</td>\n      <td>TRABAJO PRÁCTICO N°6 Curso: K5052 Profesor: Al...</td>\n      <td>480</td>\n      <td>231</td>\n      <td>[TRABAJO PRÁCTICO N°6 Curso: K5052 Profesor: A...</td>\n      <td>None</td>\n      <td>None</td>\n      <td>None</td>\n      <td>Sistemas emergentes</td>\n      <td>...</td>\n      <td>None</td>\n      <td>None</td>\n      <td>None</td>\n      <td>None</td>\n      <td>None</td>\n      <td>None</td>\n      <td>None</td>\n      <td>[TRABAJO PRÁCTICO N°6 Curso: K5052 Profesor: A...</td>\n      <td>[trabajo curso fecha entregar nombre apellido ...</td>\n      <td>[]</td>\n    </tr>\n    <tr>\n      <th>2</th>\n      <td>../labeled_dataset/La sociedad de costo margin...</td>\n      <td>TP N° 5 – La sociedad de costo marginal cero -...</td>\n      <td>MARKETING EN INTERNET Y NUEVA ECONOMÍA Cátedra...</td>\n      <td>1031</td>\n      <td>444</td>\n      <td>[MARKETING EN INTERNET Y NUEVA ECONOMÍA Cátedr...</td>\n      <td>None</td>\n      <td>None</td>\n      <td>None</td>\n      <td>La sociedad de costo marginal cero</td>\n      <td>...</td>\n      <td>None</td>\n      <td>None</td>\n      <td>None</td>\n      <td>None</td>\n      <td>None</td>\n      <td>None</td>\n      <td>None</td>\n      <td>[MARKETING EN INTERNET Y NUEVA ECONOMÍA Cátedr...</td>\n      <td>[marketing nuevo ayudante maximiliano bracho t...</td>\n      <td>[]</td>\n    </tr>\n    <tr>\n      <th>3</th>\n      <td>../labeled_dataset/Wikinomics $ TP1-Franco Zan...</td>\n      <td>TP1-Franco Zanette.docx</td>\n      <td>Alumno: Franco Zanette (147. 074-7)Institución...</td>\n      <td>1180</td>\n      <td>472</td>\n      <td>[Alumno: Franco Zanette (147., 074-7)Instituci...</td>\n      <td>None</td>\n      <td>None</td>\n      <td>None</td>\n      <td>Wikinomics</td>\n      <td>...</td>\n      <td>None</td>\n      <td>None</td>\n      <td>None</td>\n      <td>None</td>\n      <td>None</td>\n      <td>None</td>\n      <td>None</td>\n      <td>[Alumno: Franco Zanette (147.074-7), Instituci...</td>\n      <td>[, frba, tp tp, fecha, , concepto, , concepto ...</td>\n      <td>[]</td>\n    </tr>\n    <tr>\n      <th>4</th>\n      <td>../labeled_dataset/Economia de experiencia $ T...</td>\n      <td>TP 3 (1).docx</td>\n      <td>TP 3¿Qué 3 elementos hacen resurgir con fuerza...</td>\n      <td>590</td>\n      <td>309</td>\n      <td>[TP 3¿Qué 3 elementos hacen resurgir con fuerz...</td>\n      <td>None</td>\n      <td>None</td>\n      <td>None</td>\n      <td>Economia de experiencia</td>\n      <td>...</td>\n      <td>None</td>\n      <td>None</td>\n      <td>None</td>\n      <td>None</td>\n      <td>None</td>\n      <td>None</td>\n      <td>None</td>\n      <td>[TP 3, ¿Qué 3 elementos hacen resurgir con fue...</td>\n      <td>[tp, elemento hacer resurgir fuerza idea exper...</td>\n      <td>[]</td>\n    </tr>\n    <tr>\n      <th>...</th>\n      <td>...</td>\n      <td>...</td>\n      <td>...</td>\n      <td>...</td>\n      <td>...</td>\n      <td>...</td>\n      <td>...</td>\n      <td>...</td>\n      <td>...</td>\n      <td>...</td>\n      <td>...</td>\n      <td>...</td>\n      <td>...</td>\n      <td>...</td>\n      <td>...</td>\n      <td>...</td>\n      <td>...</td>\n      <td>...</td>\n      <td>...</td>\n      <td>...</td>\n      <td>...</td>\n    </tr>\n    <tr>\n      <th>301</th>\n      <td>../labeled_dataset/La sociedad de costo margin...</td>\n      <td>TP5-Gariglio.docx</td>\n      <td>PREGUNTAS TP5 - (Test de lectura sobre capítul...</td>\n      <td>698</td>\n      <td>330</td>\n      <td>[PREGUNTAS TP5 - (Test de lectura sobre capítu...</td>\n      <td>None</td>\n      <td>None</td>\n      <td>None</td>\n      <td>La sociedad de costo marginal cero</td>\n      <td>...</td>\n      <td>None</td>\n      <td>None</td>\n      <td>None</td>\n      <td>None</td>\n      <td>None</td>\n      <td>None</td>\n      <td>None</td>\n      <td>[PREGUNTAS TP5 - (Test de lectura sobre capítu...</td>\n      <td>[pregunta lectura, , sociedad costo marginal c...</td>\n      <td>[]</td>\n    </tr>\n    <tr>\n      <th>302</th>\n      <td>../labeled_dataset/La sociedad de costo margin...</td>\n      <td>TP5 - La sociedad de MG Cero - Rifkin - Santia...</td>\n      <td>curso: K5071 - 2 Cuat. 2016Marketing en Intern...</td>\n      <td>745</td>\n      <td>336</td>\n      <td>[curso: K5071 - 2 Cuat., 2016Marketing en Inte...</td>\n      <td>None</td>\n      <td>None</td>\n      <td>None</td>\n      <td>La sociedad de costo marginal cero</td>\n      <td>...</td>\n      <td>None</td>\n      <td>None</td>\n      <td>None</td>\n      <td>None</td>\n      <td>None</td>\n      <td>None</td>\n      <td>None</td>\n      <td>[curso: K5071 - 2 Cuat. 2016, Marketing en Int...</td>\n      <td>[curso cuat, marketing nuevo, , dr, , ayudante...</td>\n      <td>[]</td>\n    </tr>\n    <tr>\n      <th>303</th>\n      <td>../labeled_dataset/Sistemas emergentes $ TP6  ...</td>\n      <td>TP6  - Sistemas emergentes - Joel Melamed.docx</td>\n      <td>MarketingProfesor: Alejandro Prince, Hernan Bo...</td>\n      <td>434</td>\n      <td>222</td>\n      <td>[MarketingProfesor: Alejandro Prince, Hernan B...</td>\n      <td>None</td>\n      <td>None</td>\n      <td>None</td>\n      <td>Sistemas emergentes</td>\n      <td>...</td>\n      <td>None</td>\n      <td>None</td>\n      <td>None</td>\n      <td>None</td>\n      <td>None</td>\n      <td>None</td>\n      <td>None</td>\n      <td>[, , Marketing, Profesor: Alejandro Prince, He...</td>\n      <td>[, , marketing, , trabajo, , , , fecha entrega...</td>\n      <td>[]</td>\n    </tr>\n    <tr>\n      <th>304</th>\n      <td>../labeled_dataset/Economia de experiencia $ T...</td>\n      <td>TP 3 - Economía de Experiencia - Andrés Basso ...</td>\n      <td>The experience economy - Joseph PINE II y Jame...</td>\n      <td>771</td>\n      <td>380</td>\n      <td>[The experience economy - Joseph PINE II y Jam...</td>\n      <td>None</td>\n      <td>None</td>\n      <td>None</td>\n      <td>Economia de experiencia</td>\n      <td>...</td>\n      <td>None</td>\n      <td>None</td>\n      <td>None</td>\n      <td>None</td>\n      <td>None</td>\n      <td>None</td>\n      <td>None</td>\n      <td>[The experience economy - Joseph PINE II y Jam...</td>\n      <td>[experience ii, pregunta trabajo, nota requeri...</td>\n      <td>[]</td>\n    </tr>\n    <tr>\n      <th>305</th>\n      <td>../labeled_dataset/Wikinomics $ TP 4 - Wikinom...</td>\n      <td>TP 4 - Wikinomía.docx</td>\n      <td>Marketing en Internet y Nueva EconomíaTrabajo ...</td>\n      <td>2053</td>\n      <td>736</td>\n      <td>[Marketing en Internet y Nueva EconomíaTrabajo...</td>\n      <td>None</td>\n      <td>None</td>\n      <td>None</td>\n      <td>Wikinomics</td>\n      <td>...</td>\n      <td>None</td>\n      <td>None</td>\n      <td>None</td>\n      <td>None</td>\n      <td>None</td>\n      <td>None</td>\n      <td>None</td>\n      <td>[, Marketing en Internet y Nueva Economía, Tra...</td>\n      <td>[, marketing nuevo, trabajo, , , , ayudante, c...</td>\n      <td>[]</td>\n    </tr>\n  </tbody>\n</table>\n<p>306 rows × 23 columns</p>\n</div>"
     },
     "metadata": {},
     "execution_count": 7
    }
   ],
   "source": [
    "dataframe_dataset"
   ]
  },
  {
   "source": [
    "# Preparado de Libros"
   ],
   "cell_type": "markdown",
   "metadata": {}
  },
  {
   "cell_type": "code",
   "execution_count": 8,
   "metadata": {},
   "outputs": [],
   "source": [
    "preprocess_list = ['lemmatized_string', 'sentences', 'preprocessed_sentences', 'paragraphs', 'preprocessed_paragraphs']"
   ]
  },
  {
   "cell_type": "code",
   "execution_count": 9,
   "metadata": {},
   "outputs": [],
   "source": [
    "def process_book(file):\n",
    "    log.info('Processing file: {}'.format(file))\n",
    "    try:\n",
    "        path = '{}{}'.format(directory, file)\n",
    "        document = Document(path = path, preprocess_list = preprocess_list)\n",
    "        splitted_file = file.split(' $ ') \n",
    "        topic = splitted_file[0]\n",
    "        title = splitted_file[1]\n",
    "        return [path, title, document.string, document.word_count(), document.type_count(), document.sentences,\\\n",
    "                       document.lemmatized_string, document.stemmed_string, document.simple_preprocessed_string, topic, \\\n",
    "                       document.named_entities, document.bigrams, document.trigrams, document.lemmatized_bigrams, \\\n",
    "                       document.lemmatized_trigrams, document.stemmed_bigrams, document.stemmed_trigrams, \\\n",
    "                       document.simple_preprocessed_bigrams, document.simple_preprocessed_trigrams, document.preprocessed_sentences,\n",
    "                       document.paragraphs, document.preprocessed_paragraphs, document.urls]\n",
    "    except InvalidDocument:\n",
    "        return []"
   ]
  },
  {
   "cell_type": "code",
   "execution_count": 10,
   "metadata": {},
   "outputs": [],
   "source": [
    "books = []\n",
    "init_time = datetime.now()\n",
    "directory = '../books/'\n",
    "files = os.listdir(directory)\n",
    "number_of_cores_to_use = 10\n",
    "dataframe_books = None\n",
    "\n",
    "\n",
    "with Pool(number_of_cores_to_use) as pool:\n",
    "    books = pool.map(process_file, files)\n",
    "\n",
    "time = datetime.now() - init_time\n",
    "log.info('{} documents were processed. {} documents errored. Total time used: {}, Total cores used: {}'.format(len(books), books.count([]), \\\n",
    "                                                                                                          str(time), number_of_cores_to_use))"
   ]
  },
  {
   "cell_type": "code",
   "execution_count": 14,
   "metadata": {},
   "outputs": [],
   "source": [
    "dataframe_books = pd.DataFrame(data = books, columns=['original_path', 'document_title', 'string', 'word_count', 'type_count', 'sentences','lemmatized_text', 'stemmed_text', 'simple_preprocessed', 'topic', 'named_entities', 'tokens_bigrams', 'tokens_trigrams', 'lemmatized_bigrams', 'lemmatized_trigrams', 'stemmed_bigrams', 'stemmed_trigrams', 'simple_preprocessed_bigrams', 'simple_preprocessed_trigrams', 'preprocessed_sentences', 'paragraphs', 'preprocessed_paragraphs', 'urls'])"
   ]
  },
  {
   "cell_type": "code",
   "execution_count": 15,
   "metadata": {},
   "outputs": [],
   "source": [
    "dataframe_books.to_csv('../data/books.csv')"
   ]
  },
  {
   "cell_type": "code",
   "execution_count": null,
   "metadata": {},
   "outputs": [],
   "source": [
    "dataframe_books"
   ]
  },
  {
   "cell_type": "code",
   "execution_count": null,
   "metadata": {},
   "outputs": [],
   "source": []
  }
 ]
}