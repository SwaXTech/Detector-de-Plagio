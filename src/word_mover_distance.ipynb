{
 "metadata": {
  "language_info": {
   "codemirror_mode": {
    "name": "ipython",
    "version": 3
   },
   "file_extension": ".py",
   "mimetype": "text/x-python",
   "name": "python",
   "nbconvert_exporter": "python",
   "pygments_lexer": "ipython3",
   "version": 3
  },
  "orig_nbformat": 2
 },
 "nbformat": 4,
 "nbformat_minor": 2,
 "cells": [
  {
   "cell_type": "code",
   "execution_count": null,
   "metadata": {},
   "outputs": [],
   "source": [
    "from gensim.models import KeyedVectors\n",
    "import numpy as np\n",
    "from repository.csv_tools import get_documents"
   ]
  },
  {
   "cell_type": "code",
   "execution_count": null,
   "metadata": {},
   "outputs": [],
   "source": [
    "word_vectors = KeyedVectors.load('../keyed_vectors/complete.kv')"
   ]
  },
  {
   "cell_type": "code",
   "execution_count": null,
   "metadata": {},
   "outputs": [],
   "source": [
    "documents = get_documents('data.csv')"
   ]
  },
  {
   "cell_type": "code",
   "execution_count": null,
   "metadata": {},
   "outputs": [],
   "source": [
    "doc_eval = documents.pop(8)"
   ]
  },
  {
   "cell_type": "code",
   "execution_count": null,
   "metadata": {},
   "outputs": [],
   "source": [
    "for ix1, p in enumerate(doc_eval.preprocessed_paragraphs):\n",
    "    for document in documents:\n",
    "        for ix2, paragraph in enumerate(document.preprocessed_paragraphs):\n",
    "            distance = word_vectors.wmdistance(p, paragraph)\n",
    "            if distance < 1.5 and document.topic == doc_eval.topic:\n",
    "                print('Original paragraph: \\n{}\\n\\n\\nOther paragraph: \\n{}\\n\\nDistance: {}\\n\\n'.format(doc_eval.paragraphs[ix1], document.paragraphs[ix2], distance))"
   ]
  }
 ]
}