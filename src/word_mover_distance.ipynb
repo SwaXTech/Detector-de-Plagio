{
 "metadata": {
  "language_info": {
   "codemirror_mode": {
    "name": "ipython",
    "version": 3
   },
   "file_extension": ".py",
   "mimetype": "text/x-python",
   "name": "python",
   "nbconvert_exporter": "python",
   "pygments_lexer": "ipython3",
   "version": "3.8.5-final"
  },
  "orig_nbformat": 2,
  "kernelspec": {
   "name": "python38564bitnlpconda58a66029c51549b7b2d39520295f4ea7",
   "display_name": "Python 3.8.5 64-bit ('nlp': conda)"
  }
 },
 "nbformat": 4,
 "nbformat_minor": 2,
 "cells": [
  {
   "source": [
    "# Detector de Plagio\n",
    "\n",
    "- Calcular similitud entre párrafos\n",
    "- Calcular similitud entre oraciones\n",
    "- Calcular similitud entre el documento a evaluar y:\n",
    "    - Otros documentos\n",
    "    - Texto obtenido de internet en base a palabras clave\n",
    "    - Libros"
   ],
   "cell_type": "markdown",
   "metadata": {}
  },
  {
   "cell_type": "code",
   "execution_count": 1,
   "metadata": {},
   "outputs": [],
   "source": [
    "from gensim.models import KeyedVectors\n",
    "import numpy as np\n",
    "from repository.csv_tools import get_documents\n",
    "from models.naive_bayes_utils import NaiveBayes\n",
    "from models.lda_utils import get_topic_keywords\n",
    "from document import Document\n",
    "from nltk import word_tokenize\n",
    "import util.file_manager as fm"
   ]
  },
  {
   "source": [
    "## Para calcular la distancia entre palabras se utilizará un modelo preentrenado de Word Embeddings"
   ],
   "cell_type": "markdown",
   "metadata": {}
  },
  {
   "cell_type": "code",
   "execution_count": 2,
   "metadata": {},
   "outputs": [],
   "source": [
    "word_vectors = KeyedVectors.load('../keyed_vectors/complete.kv')"
   ]
  },
  {
   "cell_type": "code",
   "execution_count": 3,
   "metadata": {},
   "outputs": [
    {
     "output_type": "execute_result",
     "data": {
      "text/plain": [
       "14.306833555617764"
      ]
     },
     "metadata": {},
     "execution_count": 3
    }
   ],
   "source": [
    "word_vectors.wmdistance('yo comprar cebollas', 'el adquirir zanahorias')"
   ]
  },
  {
   "cell_type": "code",
   "execution_count": 4,
   "metadata": {},
   "outputs": [],
   "source": [
    "documents = get_documents('../data/dataset.csv')\n",
    "scrapped = get_documents('../data/scrapped.csv')\n",
    "books = get_documents('../data/books.csv')"
   ]
  },
  {
   "source": [
    "# Evaluación de documentos potencialmente plagiados\n",
    "\n",
    "- Deben ser del mismo tema\n",
    "- Los párrafos u oraciones deben ser considerables"
   ],
   "cell_type": "markdown",
   "metadata": {}
  },
  {
   "cell_type": "code",
   "execution_count": 5,
   "metadata": {},
   "outputs": [],
   "source": [
    "classifier = NaiveBayes()\n",
    "classifier.load_model(path = '../data/')"
   ]
  },
  {
   "cell_type": "code",
   "execution_count": 6,
   "metadata": {},
   "outputs": [],
   "source": [
    "def is_useful(topic, document):\n",
    "    return document.topic == topic"
   ]
  },
  {
   "cell_type": "code",
   "execution_count": 7,
   "metadata": {},
   "outputs": [],
   "source": [
    "def is_useful_text(lemmatized_string, original_string):\n",
    "    return lemmatized_string not in questions and len(word_tokenize(lemmatized_string)) > 5 and '?' not in original_string and '¿' not in original_string"
   ]
  },
  {
   "cell_type": "code",
   "execution_count": 8,
   "metadata": {},
   "outputs": [
    {
     "output_type": "stream",
     "name": "stdout",
     "text": [
      "305\n"
     ]
    }
   ],
   "source": [
    "print(len(documents))\n",
    "#doc_eval = documents.pop(15)\n",
    "doc_eval = Document(path = '../test_dataset/Test Document $ TP 1 - Larga Cola - Campassi Rodrigo  (copy).docx')"
   ]
  },
  {
   "cell_type": "code",
   "execution_count": 9,
   "metadata": {},
   "outputs": [
    {
     "output_type": "stream",
     "name": "stdout",
     "text": [
      "Tópico detectado: La larga cola\n"
     ]
    }
   ],
   "source": [
    "topic, _ = classifier.topic(doc_eval.lemmatized_string)\n",
    "print('Tópico detectado: {}'.format(topic))"
   ]
  },
  {
   "cell_type": "code",
   "execution_count": 10,
   "metadata": {},
   "outputs": [
    {
     "output_type": "stream",
     "name": "stdout",
     "text": [
      "Palabras clave encontradas: largo cola ofrecer venta regla cliente demanda nicho oferta minorista\n"
     ]
    }
   ],
   "source": [
    "keywords, p = get_topic_keywords(doc_eval.lemmatized_string)\n",
    "print('Palabras clave encontradas: {}'.format(keywords))"
   ]
  },
  {
   "cell_type": "code",
   "execution_count": 11,
   "metadata": {},
   "outputs": [],
   "source": [
    "filtered_documents = [document for document in documents if is_useful(topic, document)]"
   ]
  },
  {
   "cell_type": "code",
   "execution_count": 12,
   "metadata": {},
   "outputs": [],
   "source": [
    "filtered_web_texts = [document for document in scrapped if is_useful(keywords, document)]"
   ]
  },
  {
   "cell_type": "code",
   "execution_count": 13,
   "metadata": {},
   "outputs": [],
   "source": [
    "filtered_books = [book for book in books if is_useful(topic, book)]"
   ]
  },
  {
   "source": [
    "### Filtado de preguntas y consignas frecuentes"
   ],
   "cell_type": "markdown",
   "metadata": {}
  },
  {
   "cell_type": "code",
   "execution_count": 30,
   "metadata": {},
   "outputs": [],
   "source": [
    "questions = [\n",
    "    'concepto conducta adaptativo complejas sistema ascendente sistema',\n",
    "    'sistema emergente autoorganizativo sistema evolutivo caos',\n",
    "    'desarrollar idea concepto conducta adaptativo complejas sistema ascendente sistema',\n",
    "    'particular conducta dictiostellum implicancias',\n",
    "    'enuncie idea componente basa dar ejemplo cada',\n",
    "    'enunciar ley coase originalmente ahora implicancias',\n",
    "    'poder caracterizar industrial decir rifkin invento cada infraestructura cada etapa',\n",
    "    'lectura rifkin clase actual elegir apellido brevemente',\n",
    "    'pc activo diferencia envolver usuario conducta tipo problema naturaleza interactivo pc distinguir individuo educados poder orientados manejo ser trabajador conocimiento analista conceptuales',\n",
    "    'definir caracterizar experiencia diferencia producto servicio',\n",
    "    'ejemplo distinto real si conocer invente experiencia',\n",
    "    'mismo aproximadamente porcentaje fin respecto usuario',\n",
    "    'relacionar ley pareto masa largo cola',\n",
    "    'dar ejemplo internacional empresa producto servicio modelo largo cola',\n",
    "    'dar ejemplo internacional empresa producto modelo largo cola',\n",
    "]"
   ]
  },
  {
   "source": [
    "### Si es un PDF, entonces comparo por oraciones. El PDF no es capaz de separarse en párrafos de manera correcta"
   ],
   "cell_type": "markdown",
   "metadata": {}
  },
  {
   "cell_type": "code",
   "execution_count": 31,
   "metadata": {},
   "outputs": [],
   "source": [
    "def is_pdf(document):\n",
    "    return fm.is_pdf(document.title)"
   ]
  },
  {
   "source": [
    "## Detección del plagio\n",
    "\n",
    "- Definir un Treshold:\n",
    "    - A partir de qué distancia se considera plagio.\n",
    "    - A mayor distancia, más plagio se detecta, con más posibilidad de detectar parafraseos.\n",
    "    - A mayor distancia, también se detectan varios falsos positivos.\n",
    "\n",
    "- Comparar con otros TP's\n",
    "    - Si alguno es PDF se comparan oraciones, en otro caso párrafos\n",
    "\n",
    "- Comparar con texto scrappeado de internet:\n",
    "    - Solo se comparan párrafos, así sean PDF's o no.\n",
    "\n",
    "- Comparar con libros consultados:\n",
    "    - Se comparan solo oraciones, todos los libros vienen en formato de oraciones\n",
    "    "
   ],
   "cell_type": "markdown",
   "metadata": {}
  },
  {
   "cell_type": "code",
   "execution_count": 42,
   "metadata": {
    "tags": []
   },
   "outputs": [],
   "source": [
    "treshold = 2.1\n",
    "\n",
    "paragraphs = []\n",
    "sentences = []\n",
    "paragraph_count = len(doc_eval.preprocessed_paragraphs)\n",
    "sentence_count = len(doc_eval.preprocessed_sentences)\n",
    "\n",
    "for document in filtered_documents:\n",
    "    if is_pdf(document) or is_pdf(doc_eval):\n",
    "        for i, sentence in enumerate(doc_eval.preprocessed_sentences):\n",
    "            for j, other_sentence in enumerate(document.preprocessed_sentences):\n",
    "                if is_useful_text(sentence, doc_eval.sentences[i]) and is_useful_text(other_sentence, document.sentences[j]):\n",
    "                    distance = word_vectors.wmdistance(sentence.split(), other_sentence.split())\n",
    "                    if distance <= treshold:\n",
    "                        sentences.append(\n",
    "                            (document, i, j, distance)\n",
    "                        )\n",
    "    else:\n",
    "        for i, paragraph in enumerate(doc_eval.preprocessed_paragraphs):\n",
    "            for j, other_paragraph in enumerate(document.preprocessed_paragraphs):\n",
    "                if is_useful_text(paragraph,doc_eval.paragraphs[i]) and is_useful_text(other_paragraph, document.paragraphs[j]):\n",
    "                    distance = word_vectors.wmdistance(paragraph, other_paragraph) \n",
    "                    if distance <= treshold:\n",
    "                        paragraphs.append(\n",
    "                            (document, i, j, distance)\n",
    "                        )\n",
    "\n",
    "\n",
    "for scrapped in filtered_web_texts:\n",
    "    for i, paragraph in enumerate(scrapped.preprocessed_paragraphs):\n",
    "        for j, other_paragraph in enumerate(doc_eval.preprocessed_paragraphs):\n",
    "           if is_useful_text(other_paragraph, doc_eval.paragraphs[j]):\n",
    "                distance = word_vectors.wmdistance(paragraph, other_paragraph)\n",
    "                if distance <= treshold:\n",
    "                    paragraphs.append(\n",
    "                        (scrapped, j, i, distance)\n",
    "                    )\n",
    "\n",
    "    \n",
    "for book in filtered_books:\n",
    "    for i, sentence in enumerate(book.preprocessed_sentences):\n",
    "        for j, other_sentence in enumerate(doc_eval.preprocessed_sentences):\n",
    "            if is_useful_text(other_sentence, doc_eval.sentences[j]):\n",
    "                distance = word_vectors.wmdistance(sentence, other_sentence)\n",
    "                if distance <= treshold:\n",
    "                    sentences.append(\n",
    "                        (book, j, i, distance)\n",
    "                    )\n"
   ]
  },
  {
   "source": [
    "# Impresión de resultados\n",
    "\n",
    "- Porcentaje de plagio\n",
    "- Distancia entre oraciones y párrafos plagiados"
   ],
   "cell_type": "markdown",
   "metadata": {}
  },
  {
   "cell_type": "code",
   "execution_count": 44,
   "metadata": {
    "tags": [
     "outputPrepend"
    ]
   },
   "outputs": [
    {
     "output_type": "stream",
     "name": "stdout",
     "text": [
      "aumenta el boca en boca que se da personalmente o vía internet entre los diferentes consumidores. Esto, junto a las sugerencias de los usuarios y las reseñas de productos, produce que los productos ofrecidos sean encontrados por los potenciales demandantes.\n\nOther Paragraph: \n\n Respuestas: 1) La Larga Cola fue un término propuesto por Chris Anderson, el cual propone con este concepto que, gracias a las nuevas tecnologías, estamos pasando de una economía de masas a una economía de nichos. El objetivo es: el futuro de los negocios es vender menos cantidades de más productos. La Larga Cola no es otra cosa que un modelo de negocios que se fundamenta en vender productos poco comunes que gracias a Internet ven reducidos sus costos de almacenamiento y distribución. Se dice que es el presente de la economía minorista, ya que se trata de los productos que tienen poca venta pero que la suma de esos distintos productos (relacionados con los productos segmentados en nichos)\n\nDistance: 1.8507574660920345\n\nIntersection: 4\n\n\n\n\nParagraph: \nDemocratizar las herramientas de producción: La gente puede producir sin necesidad de acudir a profesionales, a diferencia de lo que sucedía tiempo atrás. Es posible editar video, convertir audio y realizar impresiones a color, entre muchas cosas, a un costo accesible y desde cualquier hogar.\n\nOther Paragraph: \n\n La primera fuerza es democratizar las herramientas de producción. En consecuencia, el universo de contenidos disponibles ahora está creciendo con más rapidez que nunca. Esto es lo que extiende la larga cola hacia la derecha, multiplicando el número de bienes disponibles. Resultado: más productos, lo que extiende la larga cola.\n\nDistance: 2.0249130364836314\n\nIntersection: 2\n\n\n\n\nParagraph: \nLa economía basada en el éxito, denominada de escasez, es la creación de una época en la que no había suficiente espacio para hacer que todo fuese accesible a todos: no había suficiente espacio de exhibición para todos los CD, DVD y videojuegos producidos; ni suficientes pantallas para proyectar todas las películas disponibles; ni suficientes canales para transmitir todos los programas de televisión; ni suficientes ondas hertzianas para emitir toda la música creada; ni tampoco había suficientes horas en el día para ofrecer todo a través de alguno de estos espacios. \n\nOther Paragraph: \n\n Grafico de Larga Cola ### picture data found, picture dimensions are 22043 by 13360, depth 1 pict001.png 2) La economía basada en el éxito, denominada de escasez, es la creación de una época en la que no había suficiente espacio para hacer que todo fuese accesible a todos: no había suficiente espacio de exhibición para todos los CD, DVD y videojuegos producidos; ni suficientes pantallas para proyectar todas las películas disponibles; ni suficientes canales para transmitir todos los programas de televisión; ni suficientes ondas hertzianas para emitir toda la música creada; ni tampoco había suficientes horas en el día para ofrecer todo a través de alguno de estos espacios\n\nDistance: 1.072418660694089\n\nIntersection: 23\n\n\n\n\nParagraph: \nLa economía basada en el éxito, denominada de escasez, es la creación de una época en la que no había suficiente espacio para hacer que todo fuese accesible a todos: no había suficiente espacio de exhibición para todos los CD, DVD y videojuegos producidos; ni suficientes pantallas para proyectar todas las películas disponibles; ni suficientes canales para transmitir todos los programas de televisión; ni suficientes ondas hertzianas para emitir toda la música creada; ni tampoco había suficientes horas en el día para ofrecer todo a través de alguno de estos espacios. \n\nOther Paragraph: \n\nCuando la economía se basaba en el éxito, dado que no había suficiente espacio para que todo sea accesible a todos, cuando no había suficientes pantallas para proyectar todas las películas disponibles, ni suficientes canales para transmitir todos los programas de televisión, ni tampoco había suficientes horas del día para ofrecer todo a través de alguno de estos espacios, esto era la economía de la escasez.\n\nDistance: 1.4548918182908754\n\nIntersection: 13\n\n\n\n\nParagraph: \nLa economía basada en el éxito, denominada de escasez, es la creación de una época en la que no había suficiente espacio para hacer que todo fuese accesible a todos: no había suficiente espacio de exhibición para todos los CD, DVD y videojuegos producidos; ni suficientes pantallas para proyectar todas las películas disponibles; ni suficientes canales para transmitir todos los programas de televisión; ni suficientes ondas hertzianas para emitir toda la música creada; ni tampoco había suficientes horas en el día para ofrecer todo a través de alguno de estos espacios. \n\nOther Paragraph: \n\nCuando la economía se basaba en el éxito, dado que no había suficiente espacio para que todo sea accesible a todos, cuando no había suficientes pantallas para proyectar todas las películas disponibles, ni suficientes canales para transmitir todos los programas de televisión, ni tampoco había suficientes horas del día para ofrecer todo a través de alguno de estos espacios, esto era la economía de la escasez.\n\nDistance: 1.4548918182908754\n\nIntersection: 13\n\n\n\n\nParagraph: \nConectar la oferta y la demanda: Al presentarse los nuevos productos disponibles en catálogos prácticamente infinitos, junto con lo expuesto en el ítem anterior, se orienta la demanda hacia la larga cola. También se logra que los consumidores puedan conectarse sin necesidad de estar en el mismo lugar al mismo tiempo. Por otro lado, dado que los consumidores descubren que tienen gustos más allá del éxito y lo promovido por el marketing convencional, esto aumenta el boca en boca que se da personalmente o vía internet entre los diferentes consumidores. Esto, junto a las sugerencias de los usuarios y las reseñas de productos, produce que los productos ofrecidos sean encontrados por los potenciales demandantes.\n\nOther Paragraph: \n\n Respuestas: 1) La Larga Cola fue un término propuesto por Chris Anderson, el cual propone con este concepto que, gracias a las nuevas tecnologías, estamos pasando de una economía de masas a una economía de nichos. El objetivo es: el futuro de los negocios es vender menos cantidades de más productos. La Larga Cola no es otra cosa que un modelo de negocios que se fundamenta en vender productos poco comunes que gracias a Internet ven reducidos sus costos de almacenamiento y distribución. Se dice que es el presente de la economía minorista, ya que se trata de los productos que tienen poca venta pero que la suma de esos distintos productos (relacionados con los productos segmentados en nichos)\n\nDistance: 1.8507574660920345\n\nIntersection: 4\n\n\n\n\nParagraph: \nReducir los costos de consumo mediante la democratización de la distribución: Gracias al internet y los filtros que ofrecen las páginas al momento de realizar búsquedas, las recomendaciones automáticas y personalizadas para cada usuario, y las recomendaciones y reseñas hechas por otros que ya han comprado el producto que uno busca, se reducen los costos de consumo: Se encuentra lo que se busca más rápido, se encuentran bienes que satisfagan las necesidades de uno a menor precio (ya que las alternativas de nicho ahora son fácilmente encontrables), se evita la frustración de comprar algo que termine por no ser lo esperado, etc.\n\nOther Paragraph: \n\nDemocratizar las herramientas de producción, es decir poner al alcance de todos, todo. Reducir los costes de consumo mediante esta democratización, es decir que todos puedan actuar como productores, y publicarlo, hacerlo accesible al consumidor. La tercera fuerza es conectar la oferta con la demanda, orientando la demanda hacia la larga cola, y pudiendo ofrecer a los consumidores los productos. \n\nDistance: 1.954088581059449\n\nIntersection: 5\n\n\n\n\nParagraph: \nSe dice que la “Ley de Pareto” o mejor dicho el “principio”, se cumple en aquellos casos en los que aproximadamente el 20% de una variable se corresponde con el 80% de la otra. \n\nOther Paragraph: \n\nSe dice que la “Ley de Pareto” o mejor dicho el “principio”, se cumplo en aquellos casos en los que aproximadamente el 20% de una variable se corresponde con el 80% de la otra. \n\nDistance: 1.7887375056788966\n\nIntersection: 9\n\n\n\n\nParagraph: \nEsto también se aplicaba a las ventas. Un porcentaje muy bajo de productos concentraba la mayor cantidad de ventas, los cuales eran llamados “hits” o “productos estrella” para el vendedor. El resto de los productos era considerado “de nicho”.\n\nOther Paragraph: \n\nEsto también se aplicaba a la ventas. Un porcentaje muy bajo de productos concentraba la mayor cantidad de ventas, los cuales eran llamados “hits” o “productos estrella” para el comerciante. El resto de los productos era considerado “de nicho”.\n\nDistance: 0.9793489680777466\n\nIntersection: 13\n\n\n\n\nParagraph: \nEste modelo económico sigue aplicándose a las tiendas físicas minoristas, y es llamado “Economía de las masas”. Se venden productos diseñados para satisfacer a la mayor cantidad de gente posible. Se intenta abarcar lo más posible de ventas, en lugar de ofrecer productos que solo satisfagan necesidades específicas, es decir que no abarcan los productos de la larga cola ya que representan un porcentaje bajo de las ventas. \n\nOther Paragraph: \n\nEste modelo económico sigue aplicándose a las tiendas físicas minoristas, y es llamado “Economía de las masas”. Se venden productos diseñados para satisfacer a la mayor cantidad de personas posibles. Se intenta abarcar lo más posible de ventas, en lugar de ofrecer productos que solo satisfagan necesidades puntuales, es decir que no abarcan los productos de la larga cola ya que representan un porcentaje bajo de las ventas. \n\nDistance: 0.7827220860731623\n\nIntersection: 25\n\n\n\n\nParagraph: \nReducir los costos de consumo mediante la democratización de la distribución: Gracias al internet y los filtros que ofrecen las páginas al momento de realizar búsquedas, las recomendaciones automáticas y personalizadas para cada usuario, y las recomendaciones y reseñas hechas por otros que ya han comprado el producto que uno busca, se reducen los costos de consumo: Se encuentra lo que se busca más rápido, se encuentran bienes que satisfagan las necesidades de uno a menor precio (ya que las alternativas de nicho ahora son fácilmente encontrables), se evita la frustración de comprar algo que termine por no ser lo esperado, etc.\n\nOther Paragraph: \n\nDemocratizar las herramientas de producción, es decir poner al alcance de todos, todo. Reducir los costes de consumo mediante esta democratización, es decir que todos puedan actuar como productores, y publicarlo, hacerlo accesible al consumidor. La tercera fuerza es conectar la oferta con la demanda, orientando la demanda hacia la larga cola, y pudiendo ofrecer a los consumidores los productos. \n\nDistance: 1.954088581059449\n\nIntersection: 5\n\n\n\n\nParagraph: \nLa economía basada en el éxito, denominada de escasez, es la creación de una época en la que no había suficiente espacio para hacer que todo fuese accesible a todos: no había suficiente espacio de exhibición para todos los CD, DVD y videojuegos producidos; ni suficientes pantallas para proyectar todas las películas disponibles; ni suficientes canales para transmitir todos los programas de televisión; ni suficientes ondas hertzianas para emitir toda la música creada; ni tampoco había suficientes horas en el día para ofrecer todo a través de alguno de estos espacios. \n\nOther Paragraph: \n\n Grafico de Larga Cola ### picture data found, picture dimensions are 22043 by 13360, depth 1 pict001.png 2) La economía basada en el éxito, denominada de escasez, es la creación de una época en la que no había suficiente espacio para hacer que todo fuese accesible a todos: no había suficiente espacio de exhibición para todos los CD, DVD y videojuegos producidos; ni suficientes pantallas para proyectar todas las películas disponibles; ni suficientes canales para transmitir todos los programas de televisión; ni suficientes ondas hertzianas para emitir toda la música creada; ni tampoco había suficientes horas en el día para ofrecer todo a través de alguno de estos espacios\n\nDistance: 1.072418660694089\n\nIntersection: 23\n\n\n\n\nParagraph: \nConectar la oferta y la demanda: Al presentarse los nuevos productos disponibles en catálogos prácticamente infinitos, junto con lo expuesto en el ítem anterior, se orienta la demanda hacia la larga cola. También se logra que los consumidores puedan conectarse sin necesidad de estar en el mismo lugar al mismo tiempo. Por otro lado, dado que los consumidores descubren que tienen gustos más allá del éxito y lo promovido por el marketing convencional, esto aumenta el boca en boca que se da personalmente o vía internet entre los diferentes consumidores. Esto, junto a las sugerencias de los usuarios y las reseñas de productos, produce que los productos ofrecidos sean encontrados por los potenciales demandantes.\n\nOther Paragraph: \n\n Respuestas: Anderson define a “La larga cola” como el segmento de productos ubicados en nichos selectivos que no son tan vendidos. Lo curioso es que, si sumamos el total de ventas de todos estos productos, nos da aproximadamente un 40% de ingresos sobre las ventas de los productos mas solicitados. Por lo tanto, compañías que utilizan este concepto de la larga cola como Netflix o Spotify, terminan adquiriendo de estos productos un negocio rentable. Por otro lado, Anderson asegura que es el presente y futuro de la economía minorista ya que es posible acceder a los productos de nichos muy selectos de la misma forma que los productos mas vendidos modificando de esta forma el modelo de los mercados y mejorando la economía\n\nDistance: 1.6688241552932308\n\nIntersection: 5\n\n\n\n\nParagraph: \nConectar la oferta y la demanda: Al presentarse los nuevos productos disponibles en catálogos prácticamente infinitos, junto con lo expuesto en el ítem anterior, se orienta la demanda hacia la larga cola. También se logra que los consumidores puedan conectarse sin necesidad de estar en el mismo lugar al mismo tiempo. Por otro lado, dado que los consumidores descubren que tienen gustos más allá del éxito y lo promovido por el marketing convencional, esto aumenta el boca en boca que se da personalmente o vía internet entre los diferentes consumidores. Esto, junto a las sugerencias de los usuarios y las reseñas de productos, produce que los productos ofrecidos sean encontrados por los potenciales demandantes.\n\nOther Paragraph: \n\nEs necesario que una buena tienda minorista tenga productos de los dos extremos: de la cabeza (los más vendidos), que sirven de fuente de cultura en común y alrededor de los cuales se pueden abrir camino a los productos nichos, o de la larga cola. \n\nDistance: 1.9407074311648809\n\nIntersection: 4\n\n\n\n\nParagraph: \nReducir los costos de consumo mediante la democratización de la distribución: Gracias al internet y los filtros que ofrecen las páginas al momento de realizar búsquedas, las recomendaciones automáticas y personalizadas para cada usuario, y las recomendaciones y reseñas hechas por otros que ya han comprado el producto que uno busca, se reducen los costos de consumo: Se encuentra lo que se busca más rápido, se encuentran bienes que satisfagan las necesidades de uno a menor precio (ya que las alternativas de nicho ahora son fácilmente encontrables), se evita la frustración de comprar algo que termine por no ser lo esperado, etc.\n\nOther Paragraph: \n\nDemocratizar las herramientas de producción, es decir poner al alcance de todos, todo. Reducir los costes de consumo mediante esta democratización, es decir que todos puedan actuar como productores, y publicarlo, hacerlo accesible al consumidor. La tercera fuerza es conectar la oferta con la demanda, orientando la demanda hacia la larga cola, y pudiendo ofrecer a los consumidores los productos. \n\nDistance: 1.954088581059449\n\nIntersection: 5\n\n\n\n\nParagraph: \nReducir los costos de consumo mediante la democratización de la distribución: Gracias al internet y los filtros que ofrecen las páginas al momento de realizar búsquedas, las recomendaciones automáticas y personalizadas para cada usuario, y las recomendaciones y reseñas hechas por otros que ya han comprado el producto que uno busca, se reducen los costos de consumo: Se encuentra lo que se busca más rápido, se encuentran bienes que satisfagan las necesidades de uno a menor precio (ya que las alternativas de nicho ahora son fácilmente encontrables), se evita la frustración de comprar algo que termine por no ser lo esperado, etc.\n\nOther Paragraph: \n\nRespecto que cada vez más los consumidores prefieren productos o servicios de nicho, creo que es una tendencia que viene de lejos. Hace 30 o 40 años, en un supermercado encontrabas yogur (a lo sumo natural y desnatado), hoy tienes centenares de variedades. Esto es algo a lo que ya estamos acostumbrados. Incluso cuando adquirimos un producto estandar, como un Iphone, lo personalizamos con una funda o con pegatinas.\n\nDistance: 2.0856600902080498\n\nIntersection: 3\n\n\n\n\nParagraph: \nEl seguimiento de las listas de productos más vendidos es una obsesión nacional. Nuestra cultura es una competición por la popularidad masiva. Nos fascinan los productos de gran éxito: fabricaros, elegirlos, hablar de ellos y contemplar su auge y decadencia.\n\nOther Paragraph: \n\nLos factores del lado de la demanda que conducen a la cola larga pueden ser amplificados por las \"redes de productos\" que se crean mediante recomendaciones de hipervínculos entre productos. Un artículo de MIS Quarterly de Gal Oestreicher-Singer y Arun Sundararajan muestra que las categorías de libros en Amazon.com que son más centrales y, por lo tanto, están más influenciadas por su red de recomendaciones tienen distribuciones de cola larga significativamente más pronunciadas. Sus datos en 200 áreas temáticas muestran que duplicar esta influencia conduce a un aumento del 50% en los ingresos de la quinta parte de los libros menos populares. \n\nDistance: 1.9162861104791806\n\nIntersection: 1\n\n\n\n\nParagraph: \n De todas formas, algunas tiendas logran reducir tanto los costos de inventario que consiguen aplanar esta curva de la demanda y ofrecer mayor cantidad de productos de nicho\n\nOther Paragraph: \n\nLos factores del lado de la demanda que conducen a la cola larga pueden ser amplificados por las \"redes de productos\" que se crean mediante recomendaciones de hipervínculos entre productos. Un artículo de MIS Quarterly de Gal Oestreicher-Singer y Arun Sundararajan muestra que las categorías de libros en Amazon.com que son más centrales y, por lo tanto, están más influenciadas por su red de recomendaciones tienen distribuciones de cola larga significativamente más pronunciadas. Sus datos en 200 áreas temáticas muestran que duplicar esta influencia conduce a un aumento del 50% en los ingresos de la quinta parte de los libros menos populares. \n\nDistance: 2.060087949591137\n\nIntersection: 2\n\n\n\n\nSentence: \nfascinar producto gran fabricaros elegirlos hablar contemplar auge decadencia\n\nOther sentence: \n\nNos fascinan los productos de gran éxito: fabricarlos, elegirlos, hablar de ellos y contemplar su auge y decadencia.\n\nDistance: 0.34250761071548874\n\nIntersection: 8\n\n\n\n\nSentence: \ncada fin semana llevar cabo competencia taquillera ycada jueves noche luchar darwiniana lasupervivencia programa apto\n\nOther sentence: \n\nCada fin de semana se lleva a cabo una competencia taquillera, y cada jueves por la noche hay una lucha darwiniana por el éxito y la supervivencia del programa de televisión más apto.\n\nDistance: 0.6025721725270343\n\nIntersection: 13\n\n\n\n\nSentence: \npopular difundir emisora tedioso alternancia mientras ejecutivo industria procurar desesperadamente dar\n\nOther sentence: \n\nAlgunas canciones populares se difunden a través de las emisoras radiofónicas en una tediosa alternancia, mientras que los ejecutivos en todas estas industrias procuran desesperadamente dar con el próximo acierto.\n\nDistance: 0.6439787183391805\n\nIntersection: 11\n\n\n\n\n"
     ]
    }
   ],
   "source": [
    "from nltk import word_tokenize\n",
    "paragraphs_percentage = (len(paragraphs) * 100) / paragraph_count\n",
    "sentences_percentage = (len(sentences) * 100) / sentence_count\n",
    "\n",
    "final_percentage = paragraphs_percentage + sentences_percentage\n",
    "\n",
    "print('Porcentaje de plagio de párrafos: {}%'.format(round(paragraphs_percentage, 2)))\n",
    "print('Porcentaje de plagio de oraciones: {}%'.format(round(sentences_percentage, 2)))\n",
    "print('Porcentaje de plagio total: {}%'.format(round(final_percentage, 2)))\n",
    "print('\\n\\n\\n')\n",
    "\n",
    "for document, index_doc_eval, index_document, distance in paragraphs:\n",
    "    intersect = len(set(word_tokenize(doc_eval.preprocessed_paragraphs[index_doc_eval])).intersection(word_tokenize(document.preprocessed_paragraphs[index_document])))\n",
    "    if distance != 0:\n",
    "        print('Paragraph: \\n{}\\n\\nOther Paragraph: \\n\\n{}\\n\\nDistance: {}\\n\\nIntersection: {}\\n\\n\\n\\n'.format(doc_eval.paragraphs[index_doc_eval], document.paragraphs[index_document], distance, intersect))\n",
    "\n",
    "for document, index_doc_eval, index_document, distance in sentences:\n",
    "    intersect = len(set(word_tokenize(doc_eval.preprocessed_sentences[index_doc_eval])).intersection(word_tokenize(document.preprocessed_sentences[index_document])))\n",
    "    if distance != 0:\n",
    "        print('Sentence: \\n{}\\n\\nOther sentence: \\n\\n{}\\n\\nDistance: {}\\n\\nIntersection: {}\\n\\n\\n\\n'.format(doc_eval.preprocessed_sentences[index_doc_eval], document.sentences[index_document], distance, intersect))"
   ]
  },
  {
   "cell_type": "code",
   "execution_count": null,
   "metadata": {},
   "outputs": [],
   "source": []
  }
 ]
}